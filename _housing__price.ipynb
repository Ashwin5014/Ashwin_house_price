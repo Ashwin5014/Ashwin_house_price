{
 "cells": [
  {
   "cell_type": "markdown",
   "id": "hDX3GkJRLRY2",
   "metadata": {
    "id": "hDX3GkJRLRY2"
   },
   "source": [
    "### Problem Statement\n",
    "\n",
    "*Predicting housing prices is of interest to potential buyers, sellers, and organizations alike. Multiple online platforms offer, for example, a free “price estimate” based on underlying machine learning models. For this assignment, we are going to build the best machine learning model we can for Ames, Iowa. The data set consists of 79 features that describe the quality and quantity of the properties to base our predictions on.*"
   ]
  },
  {
   "cell_type": "markdown",
   "id": "59e29495",
   "metadata": {
    "id": "59e29495"
   },
   "source": [
    "# Task 0: Data Preperation\n",
    "\n",
    "*Note: No code has to be written for the 5 cells below - you may just execute them sequentially. After this, you may move on to **Task 1** on understanding the data.*"
   ]
  },
  {
   "cell_type": "code",
   "execution_count": 1,
   "id": "42b87c95",
   "metadata": {
    "id": "42b87c95"
   },
   "outputs": [],
   "source": [
    "import pandas as pd\n",
    "import numpy as np\n",
    "from matplotlib import pyplot as plt\n",
    "import seaborn as sns\n",
    "\n",
    "from sklearn.model_selection import train_test_split\n",
    "from sklearn.preprocessing import StandardScaler\n",
    "from sklearn.model_selection import GridSearchCV\n",
    "from sklearn.metrics import f1_score, precision_score, recall_score, accuracy_score, mean_squared_error\n",
    "from sklearn.metrics import confusion_matrix, ConfusionMatrixDisplay\n",
    "from sklearn.neighbors import KNeighborsClassifier, KNeighborsRegressor\n",
    "from sklearn.linear_model import Lasso, LassoCV, LogisticRegression\n",
    "from sklearn.tree import DecisionTreeClassifier, DecisionTreeRegressor\n",
    "\n",
    "from scipy.stats import pearsonr"
   ]
  },
  {
   "cell_type": "code",
   "execution_count": 2,
   "id": "18e422c0",
   "metadata": {
    "id": "18e422c0"
   },
   "outputs": [
    {
     "data": {
      "text/html": [
       "<div>\n",
       "<style scoped>\n",
       "    .dataframe tbody tr th:only-of-type {\n",
       "        vertical-align: middle;\n",
       "    }\n",
       "\n",
       "    .dataframe tbody tr th {\n",
       "        vertical-align: top;\n",
       "    }\n",
       "\n",
       "    .dataframe thead th {\n",
       "        text-align: right;\n",
       "    }\n",
       "</style>\n",
       "<table border=\"1\" class=\"dataframe\">\n",
       "  <thead>\n",
       "    <tr style=\"text-align: right;\">\n",
       "      <th></th>\n",
       "      <th>MS SubClass</th>\n",
       "      <th>MS Zoning</th>\n",
       "      <th>Lot Frontage</th>\n",
       "      <th>Lot Area</th>\n",
       "      <th>Street</th>\n",
       "      <th>Alley</th>\n",
       "      <th>Lot Shape</th>\n",
       "      <th>Land Contour</th>\n",
       "      <th>Lot Config</th>\n",
       "      <th>Land Slope</th>\n",
       "      <th>...</th>\n",
       "      <th>Pool Area</th>\n",
       "      <th>Pool QC</th>\n",
       "      <th>Fence</th>\n",
       "      <th>Misc Feature</th>\n",
       "      <th>Misc Val</th>\n",
       "      <th>Mo Sold</th>\n",
       "      <th>Yr Sold</th>\n",
       "      <th>Sale Type</th>\n",
       "      <th>Sale Condition</th>\n",
       "      <th>SalePrice</th>\n",
       "    </tr>\n",
       "    <tr>\n",
       "      <th>PID</th>\n",
       "      <th></th>\n",
       "      <th></th>\n",
       "      <th></th>\n",
       "      <th></th>\n",
       "      <th></th>\n",
       "      <th></th>\n",
       "      <th></th>\n",
       "      <th></th>\n",
       "      <th></th>\n",
       "      <th></th>\n",
       "      <th></th>\n",
       "      <th></th>\n",
       "      <th></th>\n",
       "      <th></th>\n",
       "      <th></th>\n",
       "      <th></th>\n",
       "      <th></th>\n",
       "      <th></th>\n",
       "      <th></th>\n",
       "      <th></th>\n",
       "      <th></th>\n",
       "    </tr>\n",
       "  </thead>\n",
       "  <tbody>\n",
       "    <tr>\n",
       "      <th>526301100</th>\n",
       "      <td>20</td>\n",
       "      <td>RL</td>\n",
       "      <td>141.0</td>\n",
       "      <td>31770</td>\n",
       "      <td>Pave</td>\n",
       "      <td>NaN</td>\n",
       "      <td>IR1</td>\n",
       "      <td>Lvl</td>\n",
       "      <td>Corner</td>\n",
       "      <td>Gtl</td>\n",
       "      <td>...</td>\n",
       "      <td>0</td>\n",
       "      <td>NaN</td>\n",
       "      <td>NaN</td>\n",
       "      <td>NaN</td>\n",
       "      <td>0</td>\n",
       "      <td>5</td>\n",
       "      <td>2010</td>\n",
       "      <td>WD</td>\n",
       "      <td>Normal</td>\n",
       "      <td>215000</td>\n",
       "    </tr>\n",
       "    <tr>\n",
       "      <th>526350040</th>\n",
       "      <td>20</td>\n",
       "      <td>RH</td>\n",
       "      <td>80.0</td>\n",
       "      <td>11622</td>\n",
       "      <td>Pave</td>\n",
       "      <td>NaN</td>\n",
       "      <td>Reg</td>\n",
       "      <td>Lvl</td>\n",
       "      <td>Inside</td>\n",
       "      <td>Gtl</td>\n",
       "      <td>...</td>\n",
       "      <td>0</td>\n",
       "      <td>NaN</td>\n",
       "      <td>MnPrv</td>\n",
       "      <td>NaN</td>\n",
       "      <td>0</td>\n",
       "      <td>6</td>\n",
       "      <td>2010</td>\n",
       "      <td>WD</td>\n",
       "      <td>Normal</td>\n",
       "      <td>105000</td>\n",
       "    </tr>\n",
       "    <tr>\n",
       "      <th>526351010</th>\n",
       "      <td>20</td>\n",
       "      <td>RL</td>\n",
       "      <td>81.0</td>\n",
       "      <td>14267</td>\n",
       "      <td>Pave</td>\n",
       "      <td>NaN</td>\n",
       "      <td>IR1</td>\n",
       "      <td>Lvl</td>\n",
       "      <td>Corner</td>\n",
       "      <td>Gtl</td>\n",
       "      <td>...</td>\n",
       "      <td>0</td>\n",
       "      <td>NaN</td>\n",
       "      <td>NaN</td>\n",
       "      <td>Gar2</td>\n",
       "      <td>12500</td>\n",
       "      <td>6</td>\n",
       "      <td>2010</td>\n",
       "      <td>WD</td>\n",
       "      <td>Normal</td>\n",
       "      <td>172000</td>\n",
       "    </tr>\n",
       "    <tr>\n",
       "      <th>526353030</th>\n",
       "      <td>20</td>\n",
       "      <td>RL</td>\n",
       "      <td>93.0</td>\n",
       "      <td>11160</td>\n",
       "      <td>Pave</td>\n",
       "      <td>NaN</td>\n",
       "      <td>Reg</td>\n",
       "      <td>Lvl</td>\n",
       "      <td>Corner</td>\n",
       "      <td>Gtl</td>\n",
       "      <td>...</td>\n",
       "      <td>0</td>\n",
       "      <td>NaN</td>\n",
       "      <td>NaN</td>\n",
       "      <td>NaN</td>\n",
       "      <td>0</td>\n",
       "      <td>4</td>\n",
       "      <td>2010</td>\n",
       "      <td>WD</td>\n",
       "      <td>Normal</td>\n",
       "      <td>244000</td>\n",
       "    </tr>\n",
       "    <tr>\n",
       "      <th>527105010</th>\n",
       "      <td>60</td>\n",
       "      <td>RL</td>\n",
       "      <td>74.0</td>\n",
       "      <td>13830</td>\n",
       "      <td>Pave</td>\n",
       "      <td>NaN</td>\n",
       "      <td>IR1</td>\n",
       "      <td>Lvl</td>\n",
       "      <td>Inside</td>\n",
       "      <td>Gtl</td>\n",
       "      <td>...</td>\n",
       "      <td>0</td>\n",
       "      <td>NaN</td>\n",
       "      <td>MnPrv</td>\n",
       "      <td>NaN</td>\n",
       "      <td>0</td>\n",
       "      <td>3</td>\n",
       "      <td>2010</td>\n",
       "      <td>WD</td>\n",
       "      <td>Normal</td>\n",
       "      <td>189900</td>\n",
       "    </tr>\n",
       "  </tbody>\n",
       "</table>\n",
       "<p>5 rows × 79 columns</p>\n",
       "</div>"
      ],
      "text/plain": [
       "           MS SubClass MS Zoning  Lot Frontage  Lot Area Street Alley  \\\n",
       "PID                                                                     \n",
       "526301100           20        RL         141.0     31770   Pave   NaN   \n",
       "526350040           20        RH          80.0     11622   Pave   NaN   \n",
       "526351010           20        RL          81.0     14267   Pave   NaN   \n",
       "526353030           20        RL          93.0     11160   Pave   NaN   \n",
       "527105010           60        RL          74.0     13830   Pave   NaN   \n",
       "\n",
       "          Lot Shape Land Contour Lot Config Land Slope  ... Pool Area Pool QC  \\\n",
       "PID                                                     ...                     \n",
       "526301100       IR1          Lvl     Corner        Gtl  ...         0     NaN   \n",
       "526350040       Reg          Lvl     Inside        Gtl  ...         0     NaN   \n",
       "526351010       IR1          Lvl     Corner        Gtl  ...         0     NaN   \n",
       "526353030       Reg          Lvl     Corner        Gtl  ...         0     NaN   \n",
       "527105010       IR1          Lvl     Inside        Gtl  ...         0     NaN   \n",
       "\n",
       "           Fence Misc Feature Misc Val  Mo Sold  Yr Sold  Sale Type  \\\n",
       "PID                                                                   \n",
       "526301100    NaN          NaN        0        5     2010        WD    \n",
       "526350040  MnPrv          NaN        0        6     2010        WD    \n",
       "526351010    NaN         Gar2    12500        6     2010        WD    \n",
       "526353030    NaN          NaN        0        4     2010        WD    \n",
       "527105010  MnPrv          NaN        0        3     2010        WD    \n",
       "\n",
       "           Sale Condition SalePrice  \n",
       "PID                                  \n",
       "526301100          Normal    215000  \n",
       "526350040          Normal    105000  \n",
       "526351010          Normal    172000  \n",
       "526353030          Normal    244000  \n",
       "527105010          Normal    189900  \n",
       "\n",
       "[5 rows x 79 columns]"
      ]
     },
     "execution_count": 2,
     "metadata": {},
     "output_type": "execute_result"
    }
   ],
   "source": [
    "# All missing data removed/cleaned\n",
    "housing_df = pd.read_csv(\"ames_data_no_missing.csv\", index_col=0)\n",
    "housing_df.head(5)"
   ]
  },
  {
   "cell_type": "code",
   "execution_count": 3,
   "id": "6d94e5a0-10ae-4a06-bf7f-f1f9d9e60e1e",
   "metadata": {},
   "outputs": [
    {
     "data": {
      "text/plain": [
       "(2930, 79)"
      ]
     },
     "execution_count": 3,
     "metadata": {},
     "output_type": "execute_result"
    }
   ],
   "source": [
    "housing_df.shape"
   ]
  },
  {
   "cell_type": "code",
   "execution_count": 4,
   "id": "3657bc3c-88bc-4f44-b120-b48887dda86f",
   "metadata": {},
   "outputs": [
    {
     "data": {
      "text/plain": [
       "['MS Zoning',\n",
       " 'Street',\n",
       " 'Alley',\n",
       " 'Lot Shape',\n",
       " 'Land Contour',\n",
       " 'Lot Config',\n",
       " 'Land Slope',\n",
       " 'Neighborhood',\n",
       " 'Condition 1',\n",
       " 'Condition 2',\n",
       " 'Bldg Type',\n",
       " 'House Style',\n",
       " 'Roof Style',\n",
       " 'Roof Matl',\n",
       " 'Exterior 1st',\n",
       " 'Exterior 2nd',\n",
       " 'Mas Vnr Type',\n",
       " 'Exter Qual',\n",
       " 'Exter Cond',\n",
       " 'Foundation',\n",
       " 'Bsmt Qual',\n",
       " 'Bsmt Cond',\n",
       " 'Bsmt Exposure',\n",
       " 'BsmtFin Type 1',\n",
       " 'BsmtFin Type 2',\n",
       " 'Heating',\n",
       " 'Heating QC',\n",
       " 'Central Air',\n",
       " 'Electrical',\n",
       " 'Kitchen Qual',\n",
       " 'Functional',\n",
       " 'Fireplace Qu',\n",
       " 'Garage Type',\n",
       " 'Garage Finish',\n",
       " 'Garage Qual',\n",
       " 'Garage Cond',\n",
       " 'Paved Drive',\n",
       " 'Pool QC',\n",
       " 'Fence',\n",
       " 'Misc Feature',\n",
       " 'Sale Type',\n",
       " 'Sale Condition']"
      ]
     },
     "execution_count": 4,
     "metadata": {},
     "output_type": "execute_result"
    }
   ],
   "source": [
    "[col for col in housing_df.columns if housing_df[col].dtype=='object']"
   ]
  },
  {
   "cell_type": "code",
   "execution_count": 5,
   "id": "29b5c4ad",
   "metadata": {
    "id": "29b5c4ad"
   },
   "outputs": [
    {
     "data": {
      "text/plain": [
       "269"
      ]
     },
     "execution_count": 5,
     "metadata": {},
     "output_type": "execute_result"
    }
   ],
   "source": [
    "#Check the number of dummies to be created\n",
    "count = [housing_df[col].nunique() for col in housing_df.columns if housing_df[col].dtype==object]\n",
    "sum(count)"
   ]
  },
  {
   "cell_type": "code",
   "execution_count": 6,
   "id": "4c3a6082",
   "metadata": {
    "id": "4c3a6082"
   },
   "outputs": [],
   "source": [
    "# ensure Python reads the categorical variables as categorical\n",
    "for column in housing_df.columns:\n",
    "    if housing_df[column].dtype == 'object':\n",
    "        housing_df[column] = pd.Categorical(housing_df[column])"
   ]
  },
  {
   "cell_type": "code",
   "execution_count": 7,
   "id": "b3654e44-f297-47e6-a4ab-1f3619c76fcf",
   "metadata": {},
   "outputs": [
    {
     "name": "stdout",
     "output_type": "stream",
     "text": [
      "<class 'pandas.core.frame.DataFrame'>\n",
      "Index: 2930 entries, 526301100 to 924151050\n",
      "Data columns (total 79 columns):\n",
      " #   Column           Non-Null Count  Dtype   \n",
      "---  ------           --------------  -----   \n",
      " 0   MS SubClass      2930 non-null   int64   \n",
      " 1   MS Zoning        2930 non-null   category\n",
      " 2   Lot Frontage     2930 non-null   float64 \n",
      " 3   Lot Area         2930 non-null   int64   \n",
      " 4   Street           2930 non-null   category\n",
      " 5   Alley            198 non-null    category\n",
      " 6   Lot Shape        2930 non-null   category\n",
      " 7   Land Contour     2930 non-null   category\n",
      " 8   Lot Config       2930 non-null   category\n",
      " 9   Land Slope       2930 non-null   category\n",
      " 10  Neighborhood     2930 non-null   category\n",
      " 11  Condition 1      2930 non-null   category\n",
      " 12  Condition 2      2930 non-null   category\n",
      " 13  Bldg Type        2930 non-null   category\n",
      " 14  House Style      2930 non-null   category\n",
      " 15  Overall Qual     2930 non-null   int64   \n",
      " 16  Overall Cond     2930 non-null   int64   \n",
      " 17  Year Built       2930 non-null   int64   \n",
      " 18  Year Remod/Add   2930 non-null   int64   \n",
      " 19  Roof Style       2930 non-null   category\n",
      " 20  Roof Matl        2930 non-null   category\n",
      " 21  Exterior 1st     2930 non-null   category\n",
      " 22  Exterior 2nd     2930 non-null   category\n",
      " 23  Mas Vnr Type     1155 non-null   category\n",
      " 24  Mas Vnr Area     2930 non-null   float64 \n",
      " 25  Exter Qual       2930 non-null   category\n",
      " 26  Exter Cond       2930 non-null   category\n",
      " 27  Foundation       2930 non-null   category\n",
      " 28  Bsmt Qual        2930 non-null   category\n",
      " 29  Bsmt Cond        2930 non-null   category\n",
      " 30  Bsmt Exposure    2930 non-null   category\n",
      " 31  BsmtFin Type 1   2930 non-null   category\n",
      " 32  BsmtFin SF 1     2930 non-null   float64 \n",
      " 33  BsmtFin Type 2   2930 non-null   category\n",
      " 34  BsmtFin SF 2     2930 non-null   float64 \n",
      " 35  Bsmt Unf SF      2930 non-null   float64 \n",
      " 36  Total Bsmt SF    2930 non-null   float64 \n",
      " 37  Heating          2930 non-null   category\n",
      " 38  Heating QC       2930 non-null   category\n",
      " 39  Central Air      2930 non-null   category\n",
      " 40  Electrical       2930 non-null   category\n",
      " 41  1st Flr SF       2930 non-null   int64   \n",
      " 42  2nd Flr SF       2930 non-null   int64   \n",
      " 43  Low Qual Fin SF  2930 non-null   int64   \n",
      " 44  Gr Liv Area      2930 non-null   int64   \n",
      " 45  Bsmt Full Bath   2930 non-null   float64 \n",
      " 46  Bsmt Half Bath   2930 non-null   float64 \n",
      " 47  Full Bath        2930 non-null   int64   \n",
      " 48  Half Bath        2930 non-null   int64   \n",
      " 49  Bedroom AbvGr    2930 non-null   int64   \n",
      " 50  Kitchen AbvGr    2930 non-null   int64   \n",
      " 51  Kitchen Qual     2930 non-null   category\n",
      " 52  TotRms AbvGrd    2930 non-null   int64   \n",
      " 53  Functional       2930 non-null   category\n",
      " 54  Fireplaces       2930 non-null   int64   \n",
      " 55  Fireplace Qu     1508 non-null   category\n",
      " 56  Garage Type      2773 non-null   category\n",
      " 57  Garage Yr Blt    2930 non-null   float64 \n",
      " 58  Garage Finish    2771 non-null   category\n",
      " 59  Garage Cars      2930 non-null   float64 \n",
      " 60  Garage Area      2930 non-null   float64 \n",
      " 61  Garage Qual      2771 non-null   category\n",
      " 62  Garage Cond      2771 non-null   category\n",
      " 63  Paved Drive      2930 non-null   category\n",
      " 64  Wood Deck SF     2930 non-null   int64   \n",
      " 65  Open Porch SF    2930 non-null   int64   \n",
      " 66  Enclosed Porch   2930 non-null   int64   \n",
      " 67  3Ssn Porch       2930 non-null   int64   \n",
      " 68  Screen Porch     2930 non-null   int64   \n",
      " 69  Pool Area        2930 non-null   int64   \n",
      " 70  Pool QC          13 non-null     category\n",
      " 71  Fence            572 non-null    category\n",
      " 72  Misc Feature     106 non-null    category\n",
      " 73  Misc Val         2930 non-null   int64   \n",
      " 74  Mo Sold          2930 non-null   int64   \n",
      " 75  Yr Sold          2930 non-null   int64   \n",
      " 76  Sale Type        2930 non-null   category\n",
      " 77  Sale Condition   2930 non-null   category\n",
      " 78  SalePrice        2930 non-null   int64   \n",
      "dtypes: category(42), float64(11), int64(26)\n",
      "memory usage: 1001.6 KB\n"
     ]
    }
   ],
   "source": [
    "housing_df.info()"
   ]
  },
  {
   "cell_type": "code",
   "execution_count": 8,
   "id": "2df2b78f",
   "metadata": {
    "id": "2df2b78f"
   },
   "outputs": [],
   "source": [
    "#define our RMSE function\n",
    "def rmse(y_train, y_pred):\n",
    "    return np.sqrt(mean_squared_error(y_train, y_pred))"
   ]
  },
  {
   "cell_type": "markdown",
   "id": "fd91c10f",
   "metadata": {
    "id": "fd91c10f"
   },
   "source": [
    "# Task 1: Understand the Data\n",
    "*Take some time to familiarize yourself with the data. It contains information about housing prices in Ames. What are the key variables?*\n",
    "\n",
    "*You may perform any additional EDA if necessary.*"
   ]
  },
  {
   "cell_type": "markdown",
   "id": "ec6227ca",
   "metadata": {
    "id": "ec6227ca"
   },
   "source": [
    "### 1.1\n",
    "*What is the distribution of housing prices?*"
   ]
  },
  {
   "cell_type": "code",
   "execution_count": 9,
   "id": "b51547a8",
   "metadata": {
    "id": "b51547a8"
   },
   "outputs": [
    {
     "name": "stderr",
     "output_type": "stream",
     "text": [
      "C:\\ProgramData\\anaconda3\\Lib\\site-packages\\seaborn\\_oldcore.py:1119: FutureWarning: use_inf_as_na option is deprecated and will be removed in a future version. Convert inf values to NaN before operating instead.\n",
      "  with pd.option_context('mode.use_inf_as_na', True):\n"
     ]
    },
    {
     "data": {
      "image/png": "[encoded data removed]",
      "text/plain": [
       "<Figure size 640x480 with 1 Axes>"
      ]
     },
     "metadata": {},
     "output_type": "display_data"
    }
   ],
   "source": [
    "# The original distribution\n",
    "sns.histplot(housing_df['SalePrice'], kde=True)\n",
    "plt.title('Sale Price Distrubtion')\n",
    "plt.show()"
   ]
  },
  {
   "cell_type": "markdown",
   "id": "560316fd",
   "metadata": {
    "id": "560316fd"
   },
   "source": [
    "### 1.2\n",
    "*What is the variable that has the highest correlation with Housing prices? What are the key drivers behind larger house prices?*"
   ]
  },
  {
   "cell_type": "code",
   "execution_count": 10,
   "id": "GSxPyBkt1QgZ",
   "metadata": {
    "id": "GSxPyBkt1QgZ"
   },
   "outputs": [
    {
     "data": {
      "text/plain": [
       "SalePrice          1.000000\n",
       "Overall Qual       0.799262\n",
       "Gr Liv Area        0.706780\n",
       "Garage Cars        0.647562\n",
       "Garage Area        0.640138\n",
       "Total Bsmt SF      0.632529\n",
       "1st Flr SF         0.621676\n",
       "Year Built         0.558426\n",
       "Full Bath          0.545604\n",
       "Year Remod/Add     0.532974\n",
       "Mas Vnr Area       0.502196\n",
       "TotRms AbvGrd      0.495474\n",
       "Fireplaces         0.474558\n",
       "BsmtFin SF 1       0.433147\n",
       "Lot Frontage       0.340484\n",
       "Wood Deck SF       0.327143\n",
       "Open Porch SF      0.312951\n",
       "Half Bath          0.285056\n",
       "Bsmt Full Bath     0.275823\n",
       "2nd Flr SF         0.269373\n",
       "Lot Area           0.266549\n",
       "Garage Yr Blt      0.253459\n",
       "Bsmt Unf SF        0.183308\n",
       "Bedroom AbvGr      0.143913\n",
       "Screen Porch       0.112151\n",
       "Pool Area          0.068403\n",
       "Mo Sold            0.035259\n",
       "3Ssn Porch         0.032225\n",
       "BsmtFin SF 2       0.006018\n",
       "Misc Val          -0.015691\n",
       "Yr Sold           -0.030569\n",
       "Bsmt Half Bath    -0.035817\n",
       "Low Qual Fin SF   -0.037660\n",
       "MS SubClass       -0.085092\n",
       "Overall Cond      -0.101697\n",
       "Kitchen AbvGr     -0.119814\n",
       "Enclosed Porch    -0.128787\n",
       "Name: SalePrice, dtype: float64"
      ]
     },
     "execution_count": 10,
     "metadata": {},
     "output_type": "execute_result"
    }
   ],
   "source": [
    "#Find the correlations of all variables with SalePrice\n",
    "housing_df.corr(numeric_only=True)['SalePrice'].sort_values(ascending=False)"
   ]
  },
  {
   "cell_type": "code",
   "execution_count": 11,
   "id": "5ea7f4da-b17e-4414-9348-2d000689a12a",
   "metadata": {},
   "outputs": [
    {
     "data": {
      "text/html": [
       "<div>\n",
       "<style scoped>\n",
       "    .dataframe tbody tr th:only-of-type {\n",
       "        vertical-align: middle;\n",
       "    }\n",
       "\n",
       "    .dataframe tbody tr th {\n",
       "        vertical-align: top;\n",
       "    }\n",
       "\n",
       "    .dataframe thead th {\n",
       "        text-align: right;\n",
       "    }\n",
       "</style>\n",
       "<table border=\"1\" class=\"dataframe\">\n",
       "  <thead>\n",
       "    <tr style=\"text-align: right;\">\n",
       "      <th></th>\n",
       "      <th>Column</th>\n",
       "      <th>Correlation</th>\n",
       "    </tr>\n",
       "  </thead>\n",
       "  <tbody>\n",
       "    <tr>\n",
       "      <th>1</th>\n",
       "      <td>Overall Qual</td>\n",
       "      <td>0.799262</td>\n",
       "    </tr>\n",
       "    <tr>\n",
       "      <th>2</th>\n",
       "      <td>Gr Liv Area</td>\n",
       "      <td>0.706780</td>\n",
       "    </tr>\n",
       "    <tr>\n",
       "      <th>3</th>\n",
       "      <td>Garage Cars</td>\n",
       "      <td>0.647562</td>\n",
       "    </tr>\n",
       "    <tr>\n",
       "      <th>4</th>\n",
       "      <td>Garage Area</td>\n",
       "      <td>0.640138</td>\n",
       "    </tr>\n",
       "    <tr>\n",
       "      <th>5</th>\n",
       "      <td>Total Bsmt SF</td>\n",
       "      <td>0.632529</td>\n",
       "    </tr>\n",
       "    <tr>\n",
       "      <th>6</th>\n",
       "      <td>1st Flr SF</td>\n",
       "      <td>0.621676</td>\n",
       "    </tr>\n",
       "    <tr>\n",
       "      <th>7</th>\n",
       "      <td>Year Built</td>\n",
       "      <td>0.558426</td>\n",
       "    </tr>\n",
       "    <tr>\n",
       "      <th>8</th>\n",
       "      <td>Full Bath</td>\n",
       "      <td>0.545604</td>\n",
       "    </tr>\n",
       "    <tr>\n",
       "      <th>9</th>\n",
       "      <td>Year Remod/Add</td>\n",
       "      <td>0.532974</td>\n",
       "    </tr>\n",
       "    <tr>\n",
       "      <th>10</th>\n",
       "      <td>Mas Vnr Area</td>\n",
       "      <td>0.502196</td>\n",
       "    </tr>\n",
       "    <tr>\n",
       "      <th>11</th>\n",
       "      <td>TotRms AbvGrd</td>\n",
       "      <td>0.495474</td>\n",
       "    </tr>\n",
       "    <tr>\n",
       "      <th>12</th>\n",
       "      <td>Fireplaces</td>\n",
       "      <td>0.474558</td>\n",
       "    </tr>\n",
       "    <tr>\n",
       "      <th>13</th>\n",
       "      <td>BsmtFin SF 1</td>\n",
       "      <td>0.433147</td>\n",
       "    </tr>\n",
       "    <tr>\n",
       "      <th>14</th>\n",
       "      <td>Lot Frontage</td>\n",
       "      <td>0.340484</td>\n",
       "    </tr>\n",
       "    <tr>\n",
       "      <th>15</th>\n",
       "      <td>Wood Deck SF</td>\n",
       "      <td>0.327143</td>\n",
       "    </tr>\n",
       "    <tr>\n",
       "      <th>16</th>\n",
       "      <td>Open Porch SF</td>\n",
       "      <td>0.312951</td>\n",
       "    </tr>\n",
       "    <tr>\n",
       "      <th>17</th>\n",
       "      <td>Half Bath</td>\n",
       "      <td>0.285056</td>\n",
       "    </tr>\n",
       "    <tr>\n",
       "      <th>18</th>\n",
       "      <td>Bsmt Full Bath</td>\n",
       "      <td>0.275823</td>\n",
       "    </tr>\n",
       "    <tr>\n",
       "      <th>19</th>\n",
       "      <td>2nd Flr SF</td>\n",
       "      <td>0.269373</td>\n",
       "    </tr>\n",
       "    <tr>\n",
       "      <th>20</th>\n",
       "      <td>Lot Area</td>\n",
       "      <td>0.266549</td>\n",
       "    </tr>\n",
       "    <tr>\n",
       "      <th>21</th>\n",
       "      <td>Garage Yr Blt</td>\n",
       "      <td>0.253459</td>\n",
       "    </tr>\n",
       "    <tr>\n",
       "      <th>22</th>\n",
       "      <td>Bsmt Unf SF</td>\n",
       "      <td>0.183308</td>\n",
       "    </tr>\n",
       "    <tr>\n",
       "      <th>23</th>\n",
       "      <td>Bedroom AbvGr</td>\n",
       "      <td>0.143913</td>\n",
       "    </tr>\n",
       "    <tr>\n",
       "      <th>24</th>\n",
       "      <td>Screen Porch</td>\n",
       "      <td>0.112151</td>\n",
       "    </tr>\n",
       "    <tr>\n",
       "      <th>25</th>\n",
       "      <td>Pool Area</td>\n",
       "      <td>0.068403</td>\n",
       "    </tr>\n",
       "    <tr>\n",
       "      <th>26</th>\n",
       "      <td>Mo Sold</td>\n",
       "      <td>0.035259</td>\n",
       "    </tr>\n",
       "    <tr>\n",
       "      <th>27</th>\n",
       "      <td>3Ssn Porch</td>\n",
       "      <td>0.032225</td>\n",
       "    </tr>\n",
       "    <tr>\n",
       "      <th>28</th>\n",
       "      <td>BsmtFin SF 2</td>\n",
       "      <td>0.006018</td>\n",
       "    </tr>\n",
       "    <tr>\n",
       "      <th>29</th>\n",
       "      <td>Misc Val</td>\n",
       "      <td>-0.015691</td>\n",
       "    </tr>\n",
       "    <tr>\n",
       "      <th>30</th>\n",
       "      <td>Yr Sold</td>\n",
       "      <td>-0.030569</td>\n",
       "    </tr>\n",
       "    <tr>\n",
       "      <th>31</th>\n",
       "      <td>Bsmt Half Bath</td>\n",
       "      <td>-0.035817</td>\n",
       "    </tr>\n",
       "    <tr>\n",
       "      <th>32</th>\n",
       "      <td>Low Qual Fin SF</td>\n",
       "      <td>-0.037660</td>\n",
       "    </tr>\n",
       "    <tr>\n",
       "      <th>33</th>\n",
       "      <td>MS SubClass</td>\n",
       "      <td>-0.085092</td>\n",
       "    </tr>\n",
       "    <tr>\n",
       "      <th>34</th>\n",
       "      <td>Overall Cond</td>\n",
       "      <td>-0.101697</td>\n",
       "    </tr>\n",
       "    <tr>\n",
       "      <th>35</th>\n",
       "      <td>Kitchen AbvGr</td>\n",
       "      <td>-0.119814</td>\n",
       "    </tr>\n",
       "    <tr>\n",
       "      <th>36</th>\n",
       "      <td>Enclosed Porch</td>\n",
       "      <td>-0.128787</td>\n",
       "    </tr>\n",
       "  </tbody>\n",
       "</table>\n",
       "</div>"
      ],
      "text/plain": [
       "             Column  Correlation\n",
       "1      Overall Qual     0.799262\n",
       "2       Gr Liv Area     0.706780\n",
       "3       Garage Cars     0.647562\n",
       "4       Garage Area     0.640138\n",
       "5     Total Bsmt SF     0.632529\n",
       "6        1st Flr SF     0.621676\n",
       "7        Year Built     0.558426\n",
       "8         Full Bath     0.545604\n",
       "9    Year Remod/Add     0.532974\n",
       "10     Mas Vnr Area     0.502196\n",
       "11    TotRms AbvGrd     0.495474\n",
       "12       Fireplaces     0.474558\n",
       "13     BsmtFin SF 1     0.433147\n",
       "14     Lot Frontage     0.340484\n",
       "15     Wood Deck SF     0.327143\n",
       "16    Open Porch SF     0.312951\n",
       "17        Half Bath     0.285056\n",
       "18   Bsmt Full Bath     0.275823\n",
       "19       2nd Flr SF     0.269373\n",
       "20         Lot Area     0.266549\n",
       "21    Garage Yr Blt     0.253459\n",
       "22      Bsmt Unf SF     0.183308\n",
       "23    Bedroom AbvGr     0.143913\n",
       "24     Screen Porch     0.112151\n",
       "25        Pool Area     0.068403\n",
       "26          Mo Sold     0.035259\n",
       "27       3Ssn Porch     0.032225\n",
       "28     BsmtFin SF 2     0.006018\n",
       "29         Misc Val    -0.015691\n",
       "30          Yr Sold    -0.030569\n",
       "31   Bsmt Half Bath    -0.035817\n",
       "32  Low Qual Fin SF    -0.037660\n",
       "33      MS SubClass    -0.085092\n",
       "34     Overall Cond    -0.101697\n",
       "35    Kitchen AbvGr    -0.119814\n",
       "36   Enclosed Porch    -0.128787"
      ]
     },
     "execution_count": 11,
     "metadata": {},
     "output_type": "execute_result"
    }
   ],
   "source": [
    "corr_df=pd.DataFrame(housing_df.corr(numeric_only=True)['SalePrice'].sort_values(ascending=False)).reset_index()\n",
    "corr_df.columns=['Column','Correlation']\n",
    "corr_df=corr_df[corr_df['Column']!='SalePrice']\n",
    "corr_df"
   ]
  },
  {
   "cell_type": "markdown",
   "id": "tnBw_QHBOZax",
   "metadata": {
    "id": "tnBw_QHBOZax"
   },
   "source": [
    "### 1.3\n",
    "*Create one additional visualization, that gives some insights into the data.*"
   ]
  },
  {
   "cell_type": "code",
   "execution_count": 12,
   "id": "360aa273",
   "metadata": {
    "id": "360aa273"
   },
   "outputs": [
    {
     "data": {
      "image/png": "[encoded data removed]",
      "text/plain": [
       "<Figure size 1000x800 with 1 Axes>"
      ]
     },
     "metadata": {},
     "output_type": "display_data"
    }
   ],
   "source": [
    "# Create a visualization to highlight any insight - Can be a scatter plot, line plot, box plot, histogram or any other visualization that you might know!\n",
    "plt.figure(figsize=(10,8))\n",
    "sns.barplot(data=corr_df,x='Correlation',y='Column')\n",
    "plt.title('Correlation & Sale Price')\n",
    "plt.show()"
   ]
  },
  {
   "cell_type": "markdown",
   "id": "665cd34a",
   "metadata": {
    "id": "665cd34a"
   },
   "source": [
    "# Task 2: Build machine learning models\n",
    "\n",
    "*Use your knowledge of prediction models to create at least three models that predict housing prices.*"
   ]
  },
  {
   "cell_type": "markdown",
   "id": "069db182",
   "metadata": {
    "id": "069db182"
   },
   "source": [
    "### 2.1 \n",
    "1. *Create dummies for all the categorical columns*.\n",
    "\n",
    "2. *Partition your data into training and validation (70-30 split, setting the random state to 1).*\n",
    "3. *Scale the train and the test set using StandardScaler()*"
   ]
  },
  {
   "cell_type": "code",
   "execution_count": 13,
   "id": "c738deae",
   "metadata": {
    "id": "c738deae"
   },
   "outputs": [],
   "source": [
    "# Initialize X and y\n",
    "X = housing_df.drop(columns=['SalePrice']) # All but the outcome column\n",
    "y = housing_df['SalePrice']"
   ]
  },
  {
   "cell_type": "code",
   "execution_count": 14,
   "id": "4626f1f0-862c-437b-b94d-61b625568f90",
   "metadata": {},
   "outputs": [
    {
     "name": "stdout",
     "output_type": "stream",
     "text": [
      "<class 'pandas.core.frame.DataFrame'>\n",
      "Index: 2930 entries, 526301100 to 924151050\n",
      "Data columns (total 78 columns):\n",
      " #   Column           Non-Null Count  Dtype   \n",
      "---  ------           --------------  -----   \n",
      " 0   MS SubClass      2930 non-null   int64   \n",
      " 1   MS Zoning        2930 non-null   category\n",
      " 2   Lot Frontage     2930 non-null   float64 \n",
      " 3   Lot Area         2930 non-null   int64   \n",
      " 4   Street           2930 non-null   category\n",
      " 5   Alley            198 non-null    category\n",
      " 6   Lot Shape        2930 non-null   category\n",
      " 7   Land Contour     2930 non-null   category\n",
      " 8   Lot Config       2930 non-null   category\n",
      " 9   Land Slope       2930 non-null   category\n",
      " 10  Neighborhood     2930 non-null   category\n",
      " 11  Condition 1      2930 non-null   category\n",
      " 12  Condition 2      2930 non-null   category\n",
      " 13  Bldg Type        2930 non-null   category\n",
      " 14  House Style      2930 non-null   category\n",
      " 15  Overall Qual     2930 non-null   int64   \n",
      " 16  Overall Cond     2930 non-null   int64   \n",
      " 17  Year Built       2930 non-null   int64   \n",
      " 18  Year Remod/Add   2930 non-null   int64   \n",
      " 19  Roof Style       2930 non-null   category\n",
      " 20  Roof Matl        2930 non-null   category\n",
      " 21  Exterior 1st     2930 non-null   category\n",
      " 22  Exterior 2nd     2930 non-null   category\n",
      " 23  Mas Vnr Type     1155 non-null   category\n",
      " 24  Mas Vnr Area     2930 non-null   float64 \n",
      " 25  Exter Qual       2930 non-null   category\n",
      " 26  Exter Cond       2930 non-null   category\n",
      " 27  Foundation       2930 non-null   category\n",
      " 28  Bsmt Qual        2930 non-null   category\n",
      " 29  Bsmt Cond        2930 non-null   category\n",
      " 30  Bsmt Exposure    2930 non-null   category\n",
      " 31  BsmtFin Type 1   2930 non-null   category\n",
      " 32  BsmtFin SF 1     2930 non-null   float64 \n",
      " 33  BsmtFin Type 2   2930 non-null   category\n",
      " 34  BsmtFin SF 2     2930 non-null   float64 \n",
      " 35  Bsmt Unf SF      2930 non-null   float64 \n",
      " 36  Total Bsmt SF    2930 non-null   float64 \n",
      " 37  Heating          2930 non-null   category\n",
      " 38  Heating QC       2930 non-null   category\n",
      " 39  Central Air      2930 non-null   category\n",
      " 40  Electrical       2930 non-null   category\n",
      " 41  1st Flr SF       2930 non-null   int64   \n",
      " 42  2nd Flr SF       2930 non-null   int64   \n",
      " 43  Low Qual Fin SF  2930 non-null   int64   \n",
      " 44  Gr Liv Area      2930 non-null   int64   \n",
      " 45  Bsmt Full Bath   2930 non-null   float64 \n",
      " 46  Bsmt Half Bath   2930 non-null   float64 \n",
      " 47  Full Bath        2930 non-null   int64   \n",
      " 48  Half Bath        2930 non-null   int64   \n",
      " 49  Bedroom AbvGr    2930 non-null   int64   \n",
      " 50  Kitchen AbvGr    2930 non-null   int64   \n",
      " 51  Kitchen Qual     2930 non-null   category\n",
      " 52  TotRms AbvGrd    2930 non-null   int64   \n",
      " 53  Functional       2930 non-null   category\n",
      " 54  Fireplaces       2930 non-null   int64   \n",
      " 55  Fireplace Qu     1508 non-null   category\n",
      " 56  Garage Type      2773 non-null   category\n",
      " 57  Garage Yr Blt    2930 non-null   float64 \n",
      " 58  Garage Finish    2771 non-null   category\n",
      " 59  Garage Cars      2930 non-null   float64 \n",
      " 60  Garage Area      2930 non-null   float64 \n",
      " 61  Garage Qual      2771 non-null   category\n",
      " 62  Garage Cond      2771 non-null   category\n",
      " 63  Paved Drive      2930 non-null   category\n",
      " 64  Wood Deck SF     2930 non-null   int64   \n",
      " 65  Open Porch SF    2930 non-null   int64   \n",
      " 66  Enclosed Porch   2930 non-null   int64   \n",
      " 67  3Ssn Porch       2930 non-null   int64   \n",
      " 68  Screen Porch     2930 non-null   int64   \n",
      " 69  Pool Area        2930 non-null   int64   \n",
      " 70  Pool QC          13 non-null     category\n",
      " 71  Fence            572 non-null    category\n",
      " 72  Misc Feature     106 non-null    category\n",
      " 73  Misc Val         2930 non-null   int64   \n",
      " 74  Mo Sold          2930 non-null   int64   \n",
      " 75  Yr Sold          2930 non-null   int64   \n",
      " 76  Sale Type        2930 non-null   category\n",
      " 77  Sale Condition   2930 non-null   category\n",
      "dtypes: category(42), float64(11), int64(25)\n",
      "memory usage: 978.7 KB\n"
     ]
    }
   ],
   "source": [
    "X.info()"
   ]
  },
  {
   "cell_type": "code",
   "execution_count": 15,
   "id": "73e73f1e-1213-4194-b22f-2b2539c9a61f",
   "metadata": {},
   "outputs": [
    {
     "name": "stdout",
     "output_type": "stream",
     "text": [
      "['MS SubClass', 'Lot Frontage', 'Lot Area', 'Overall Qual', 'Overall Cond', 'Year Built', 'Year Remod/Add', 'Mas Vnr Area', 'BsmtFin SF 1', 'BsmtFin SF 2', 'Bsmt Unf SF', 'Total Bsmt SF', '1st Flr SF', '2nd Flr SF', 'Low Qual Fin SF', 'Gr Liv Area', 'Bsmt Full Bath', 'Bsmt Half Bath', 'Full Bath', 'Half Bath', 'Bedroom AbvGr', 'Kitchen AbvGr', 'TotRms AbvGrd', 'Fireplaces', 'Garage Yr Blt', 'Garage Cars', 'Garage Area', 'Wood Deck SF', 'Open Porch SF', 'Enclosed Porch', '3Ssn Porch', 'Screen Porch', 'Pool Area', 'Misc Val', 'Mo Sold', 'Yr Sold']\n"
     ]
    }
   ],
   "source": [
    "num_cols=list(X.select_dtypes(include=['int','float']).columns)\n",
    "print(num_cols)"
   ]
  },
  {
   "cell_type": "code",
   "execution_count": 16,
   "id": "UxSr_jB6lgUZ",
   "metadata": {
    "id": "UxSr_jB6lgUZ"
   },
   "outputs": [
    {
     "data": {
      "text/html": [
       "<div>\n",
       "<style scoped>\n",
       "    .dataframe tbody tr th:only-of-type {\n",
       "        vertical-align: middle;\n",
       "    }\n",
       "\n",
       "    .dataframe tbody tr th {\n",
       "        vertical-align: top;\n",
       "    }\n",
       "\n",
       "    .dataframe thead th {\n",
       "        text-align: right;\n",
       "    }\n",
       "</style>\n",
       "<table border=\"1\" class=\"dataframe\">\n",
       "  <thead>\n",
       "    <tr style=\"text-align: right;\">\n",
       "      <th></th>\n",
       "      <th>MS SubClass</th>\n",
       "      <th>Lot Frontage</th>\n",
       "      <th>Lot Area</th>\n",
       "      <th>Overall Qual</th>\n",
       "      <th>Overall Cond</th>\n",
       "      <th>Year Built</th>\n",
       "      <th>Year Remod/Add</th>\n",
       "      <th>Mas Vnr Area</th>\n",
       "      <th>BsmtFin SF 1</th>\n",
       "      <th>BsmtFin SF 2</th>\n",
       "      <th>...</th>\n",
       "      <th>Sale Type_ConLw</th>\n",
       "      <th>Sale Type_New</th>\n",
       "      <th>Sale Type_Oth</th>\n",
       "      <th>Sale Type_VWD</th>\n",
       "      <th>Sale Type_WD</th>\n",
       "      <th>Sale Condition_AdjLand</th>\n",
       "      <th>Sale Condition_Alloca</th>\n",
       "      <th>Sale Condition_Family</th>\n",
       "      <th>Sale Condition_Normal</th>\n",
       "      <th>Sale Condition_Partial</th>\n",
       "    </tr>\n",
       "    <tr>\n",
       "      <th>PID</th>\n",
       "      <th></th>\n",
       "      <th></th>\n",
       "      <th></th>\n",
       "      <th></th>\n",
       "      <th></th>\n",
       "      <th></th>\n",
       "      <th></th>\n",
       "      <th></th>\n",
       "      <th></th>\n",
       "      <th></th>\n",
       "      <th></th>\n",
       "      <th></th>\n",
       "      <th></th>\n",
       "      <th></th>\n",
       "      <th></th>\n",
       "      <th></th>\n",
       "      <th></th>\n",
       "      <th></th>\n",
       "      <th></th>\n",
       "      <th></th>\n",
       "      <th></th>\n",
       "    </tr>\n",
       "  </thead>\n",
       "  <tbody>\n",
       "    <tr>\n",
       "      <th>526301100</th>\n",
       "      <td>20</td>\n",
       "      <td>141.0</td>\n",
       "      <td>31770</td>\n",
       "      <td>6</td>\n",
       "      <td>5</td>\n",
       "      <td>1960</td>\n",
       "      <td>1960</td>\n",
       "      <td>112.0</td>\n",
       "      <td>639.0</td>\n",
       "      <td>0.0</td>\n",
       "      <td>...</td>\n",
       "      <td>0</td>\n",
       "      <td>0</td>\n",
       "      <td>0</td>\n",
       "      <td>0</td>\n",
       "      <td>1</td>\n",
       "      <td>0</td>\n",
       "      <td>0</td>\n",
       "      <td>0</td>\n",
       "      <td>1</td>\n",
       "      <td>0</td>\n",
       "    </tr>\n",
       "    <tr>\n",
       "      <th>526350040</th>\n",
       "      <td>20</td>\n",
       "      <td>80.0</td>\n",
       "      <td>11622</td>\n",
       "      <td>5</td>\n",
       "      <td>6</td>\n",
       "      <td>1961</td>\n",
       "      <td>1961</td>\n",
       "      <td>0.0</td>\n",
       "      <td>468.0</td>\n",
       "      <td>144.0</td>\n",
       "      <td>...</td>\n",
       "      <td>0</td>\n",
       "      <td>0</td>\n",
       "      <td>0</td>\n",
       "      <td>0</td>\n",
       "      <td>1</td>\n",
       "      <td>0</td>\n",
       "      <td>0</td>\n",
       "      <td>0</td>\n",
       "      <td>1</td>\n",
       "      <td>0</td>\n",
       "    </tr>\n",
       "    <tr>\n",
       "      <th>526351010</th>\n",
       "      <td>20</td>\n",
       "      <td>81.0</td>\n",
       "      <td>14267</td>\n",
       "      <td>6</td>\n",
       "      <td>6</td>\n",
       "      <td>1958</td>\n",
       "      <td>1958</td>\n",
       "      <td>108.0</td>\n",
       "      <td>923.0</td>\n",
       "      <td>0.0</td>\n",
       "      <td>...</td>\n",
       "      <td>0</td>\n",
       "      <td>0</td>\n",
       "      <td>0</td>\n",
       "      <td>0</td>\n",
       "      <td>1</td>\n",
       "      <td>0</td>\n",
       "      <td>0</td>\n",
       "      <td>0</td>\n",
       "      <td>1</td>\n",
       "      <td>0</td>\n",
       "    </tr>\n",
       "    <tr>\n",
       "      <th>526353030</th>\n",
       "      <td>20</td>\n",
       "      <td>93.0</td>\n",
       "      <td>11160</td>\n",
       "      <td>7</td>\n",
       "      <td>5</td>\n",
       "      <td>1968</td>\n",
       "      <td>1968</td>\n",
       "      <td>0.0</td>\n",
       "      <td>1065.0</td>\n",
       "      <td>0.0</td>\n",
       "      <td>...</td>\n",
       "      <td>0</td>\n",
       "      <td>0</td>\n",
       "      <td>0</td>\n",
       "      <td>0</td>\n",
       "      <td>1</td>\n",
       "      <td>0</td>\n",
       "      <td>0</td>\n",
       "      <td>0</td>\n",
       "      <td>1</td>\n",
       "      <td>0</td>\n",
       "    </tr>\n",
       "    <tr>\n",
       "      <th>527105010</th>\n",
       "      <td>60</td>\n",
       "      <td>74.0</td>\n",
       "      <td>13830</td>\n",
       "      <td>5</td>\n",
       "      <td>5</td>\n",
       "      <td>1997</td>\n",
       "      <td>1998</td>\n",
       "      <td>0.0</td>\n",
       "      <td>791.0</td>\n",
       "      <td>0.0</td>\n",
       "      <td>...</td>\n",
       "      <td>0</td>\n",
       "      <td>0</td>\n",
       "      <td>0</td>\n",
       "      <td>0</td>\n",
       "      <td>1</td>\n",
       "      <td>0</td>\n",
       "      <td>0</td>\n",
       "      <td>0</td>\n",
       "      <td>1</td>\n",
       "      <td>0</td>\n",
       "    </tr>\n",
       "  </tbody>\n",
       "</table>\n",
       "<p>5 rows × 263 columns</p>\n",
       "</div>"
      ],
      "text/plain": [
       "           MS SubClass  Lot Frontage  Lot Area  Overall Qual  Overall Cond  \\\n",
       "PID                                                                          \n",
       "526301100           20         141.0     31770             6             5   \n",
       "526350040           20          80.0     11622             5             6   \n",
       "526351010           20          81.0     14267             6             6   \n",
       "526353030           20          93.0     11160             7             5   \n",
       "527105010           60          74.0     13830             5             5   \n",
       "\n",
       "           Year Built  Year Remod/Add  Mas Vnr Area  BsmtFin SF 1  \\\n",
       "PID                                                                 \n",
       "526301100        1960            1960         112.0         639.0   \n",
       "526350040        1961            1961           0.0         468.0   \n",
       "526351010        1958            1958         108.0         923.0   \n",
       "526353030        1968            1968           0.0        1065.0   \n",
       "527105010        1997            1998           0.0         791.0   \n",
       "\n",
       "           BsmtFin SF 2  ...  Sale Type_ConLw  Sale Type_New  Sale Type_Oth  \\\n",
       "PID                      ...                                                  \n",
       "526301100           0.0  ...                0              0              0   \n",
       "526350040         144.0  ...                0              0              0   \n",
       "526351010           0.0  ...                0              0              0   \n",
       "526353030           0.0  ...                0              0              0   \n",
       "527105010           0.0  ...                0              0              0   \n",
       "\n",
       "           Sale Type_VWD  Sale Type_WD   Sale Condition_AdjLand  \\\n",
       "PID                                                               \n",
       "526301100              0              1                       0   \n",
       "526350040              0              1                       0   \n",
       "526351010              0              1                       0   \n",
       "526353030              0              1                       0   \n",
       "527105010              0              1                       0   \n",
       "\n",
       "           Sale Condition_Alloca  Sale Condition_Family  \\\n",
       "PID                                                       \n",
       "526301100                      0                      0   \n",
       "526350040                      0                      0   \n",
       "526351010                      0                      0   \n",
       "526353030                      0                      0   \n",
       "527105010                      0                      0   \n",
       "\n",
       "           Sale Condition_Normal  Sale Condition_Partial  \n",
       "PID                                                       \n",
       "526301100                      1                       0  \n",
       "526350040                      1                       0  \n",
       "526351010                      1                       0  \n",
       "526353030                      1                       0  \n",
       "527105010                      1                       0  \n",
       "\n",
       "[5 rows x 263 columns]"
      ]
     },
     "execution_count": 16,
     "metadata": {},
     "output_type": "execute_result"
    }
   ],
   "source": [
    "# Use dummy variables for categorical variables\n",
    "X=pd.get_dummies(X,drop_first=True,dtype=int)\n",
    "X.head()"
   ]
  },
  {
   "cell_type": "code",
   "execution_count": 17,
   "id": "oLRB24jAlgN2",
   "metadata": {
    "id": "oLRB24jAlgN2"
   },
   "outputs": [
    {
     "name": "stdout",
     "output_type": "stream",
     "text": [
      "(2051, 263) (879, 263) (2051,) (879,)\n"
     ]
    }
   ],
   "source": [
    "# Train - Test split (70-30 split, setting the random state to 1)\n",
    "X_train,X_val,y_train,y_val=train_test_split(X,y, test_size=0.3, random_state=1)\n",
    "print(X_train.shape,X_val.shape,y_train.shape,y_val.shape)"
   ]
  },
  {
   "cell_type": "code",
   "execution_count": 18,
   "id": "4POCJmKclgD3",
   "metadata": {
    "id": "4POCJmKclgD3"
   },
   "outputs": [
    {
     "data": {
      "text/html": [
       "<div>\n",
       "<style scoped>\n",
       "    .dataframe tbody tr th:only-of-type {\n",
       "        vertical-align: middle;\n",
       "    }\n",
       "\n",
       "    .dataframe tbody tr th {\n",
       "        vertical-align: top;\n",
       "    }\n",
       "\n",
       "    .dataframe thead th {\n",
       "        text-align: right;\n",
       "    }\n",
       "</style>\n",
       "<table border=\"1\" class=\"dataframe\">\n",
       "  <thead>\n",
       "    <tr style=\"text-align: right;\">\n",
       "      <th></th>\n",
       "      <th>MS SubClass</th>\n",
       "      <th>Lot Frontage</th>\n",
       "      <th>Lot Area</th>\n",
       "      <th>Overall Qual</th>\n",
       "      <th>Overall Cond</th>\n",
       "      <th>Year Built</th>\n",
       "      <th>Year Remod/Add</th>\n",
       "      <th>Mas Vnr Area</th>\n",
       "      <th>BsmtFin SF 1</th>\n",
       "      <th>BsmtFin SF 2</th>\n",
       "      <th>...</th>\n",
       "      <th>Sale Type_ConLw</th>\n",
       "      <th>Sale Type_New</th>\n",
       "      <th>Sale Type_Oth</th>\n",
       "      <th>Sale Type_VWD</th>\n",
       "      <th>Sale Type_WD</th>\n",
       "      <th>Sale Condition_AdjLand</th>\n",
       "      <th>Sale Condition_Alloca</th>\n",
       "      <th>Sale Condition_Family</th>\n",
       "      <th>Sale Condition_Normal</th>\n",
       "      <th>Sale Condition_Partial</th>\n",
       "    </tr>\n",
       "    <tr>\n",
       "      <th>PID</th>\n",
       "      <th></th>\n",
       "      <th></th>\n",
       "      <th></th>\n",
       "      <th></th>\n",
       "      <th></th>\n",
       "      <th></th>\n",
       "      <th></th>\n",
       "      <th></th>\n",
       "      <th></th>\n",
       "      <th></th>\n",
       "      <th></th>\n",
       "      <th></th>\n",
       "      <th></th>\n",
       "      <th></th>\n",
       "      <th></th>\n",
       "      <th></th>\n",
       "      <th></th>\n",
       "      <th></th>\n",
       "      <th></th>\n",
       "      <th></th>\n",
       "      <th></th>\n",
       "    </tr>\n",
       "  </thead>\n",
       "  <tbody>\n",
       "    <tr>\n",
       "      <th>534402140</th>\n",
       "      <td>-0.874337</td>\n",
       "      <td>-0.020364</td>\n",
       "      <td>0.089401</td>\n",
       "      <td>-0.779898</td>\n",
       "      <td>0.401692</td>\n",
       "      <td>-0.203563</td>\n",
       "      <td>-0.907119</td>\n",
       "      <td>0.521606</td>\n",
       "      <td>0.627238</td>\n",
       "      <td>1.063638</td>\n",
       "      <td>...</td>\n",
       "      <td>-0.049435</td>\n",
       "      <td>-0.304469</td>\n",
       "      <td>-0.049435</td>\n",
       "      <td>-0.022086</td>\n",
       "      <td>0.398443</td>\n",
       "      <td>-0.069997</td>\n",
       "      <td>-0.091422</td>\n",
       "      <td>-0.125895</td>\n",
       "      <td>0.464508</td>\n",
       "      <td>-0.309224</td>\n",
       "    </tr>\n",
       "    <tr>\n",
       "      <th>527110020</th>\n",
       "      <td>0.545415</td>\n",
       "      <td>-0.020364</td>\n",
       "      <td>-0.212914</td>\n",
       "      <td>0.613457</td>\n",
       "      <td>-0.503660</td>\n",
       "      <td>0.753722</td>\n",
       "      <td>0.534832</td>\n",
       "      <td>-0.445676</td>\n",
       "      <td>-0.952979</td>\n",
       "      <td>-0.286190</td>\n",
       "      <td>...</td>\n",
       "      <td>-0.049435</td>\n",
       "      <td>-0.304469</td>\n",
       "      <td>-0.049435</td>\n",
       "      <td>-0.022086</td>\n",
       "      <td>0.398443</td>\n",
       "      <td>-0.069997</td>\n",
       "      <td>-0.091422</td>\n",
       "      <td>-0.125895</td>\n",
       "      <td>0.464508</td>\n",
       "      <td>-0.309224</td>\n",
       "    </tr>\n",
       "    <tr>\n",
       "      <th>909103020</th>\n",
       "      <td>-0.164461</td>\n",
       "      <td>0.302783</td>\n",
       "      <td>0.136891</td>\n",
       "      <td>-1.476576</td>\n",
       "      <td>1.307045</td>\n",
       "      <td>-2.052115</td>\n",
       "      <td>0.390637</td>\n",
       "      <td>-0.565228</td>\n",
       "      <td>-0.952979</td>\n",
       "      <td>-0.286190</td>\n",
       "      <td>...</td>\n",
       "      <td>-0.049435</td>\n",
       "      <td>-0.304469</td>\n",
       "      <td>-0.049435</td>\n",
       "      <td>-0.022086</td>\n",
       "      <td>0.398443</td>\n",
       "      <td>-0.069997</td>\n",
       "      <td>-0.091422</td>\n",
       "      <td>-0.125895</td>\n",
       "      <td>0.464508</td>\n",
       "      <td>-0.309224</td>\n",
       "    </tr>\n",
       "    <tr>\n",
       "      <th>527162090</th>\n",
       "      <td>-0.874337</td>\n",
       "      <td>-0.310176</td>\n",
       "      <td>-0.293083</td>\n",
       "      <td>0.613457</td>\n",
       "      <td>-0.503660</td>\n",
       "      <td>0.753722</td>\n",
       "      <td>0.534832</td>\n",
       "      <td>-0.358729</td>\n",
       "      <td>-0.952979</td>\n",
       "      <td>-0.286190</td>\n",
       "      <td>...</td>\n",
       "      <td>-0.049435</td>\n",
       "      <td>-0.304469</td>\n",
       "      <td>-0.049435</td>\n",
       "      <td>-0.022086</td>\n",
       "      <td>0.398443</td>\n",
       "      <td>-0.069997</td>\n",
       "      <td>-0.091422</td>\n",
       "      <td>-0.125895</td>\n",
       "      <td>0.464508</td>\n",
       "      <td>-0.309224</td>\n",
       "    </tr>\n",
       "    <tr>\n",
       "      <th>534429150</th>\n",
       "      <td>0.545415</td>\n",
       "      <td>0.727139</td>\n",
       "      <td>0.147539</td>\n",
       "      <td>-0.083221</td>\n",
       "      <td>0.401692</td>\n",
       "      <td>-0.368613</td>\n",
       "      <td>-1.147444</td>\n",
       "      <td>-0.076153</td>\n",
       "      <td>0.259944</td>\n",
       "      <td>-0.286190</td>\n",
       "      <td>...</td>\n",
       "      <td>-0.049435</td>\n",
       "      <td>-0.304469</td>\n",
       "      <td>-0.049435</td>\n",
       "      <td>-0.022086</td>\n",
       "      <td>0.398443</td>\n",
       "      <td>-0.069997</td>\n",
       "      <td>-0.091422</td>\n",
       "      <td>-0.125895</td>\n",
       "      <td>0.464508</td>\n",
       "      <td>-0.309224</td>\n",
       "    </tr>\n",
       "  </tbody>\n",
       "</table>\n",
       "<p>5 rows × 263 columns</p>\n",
       "</div>"
      ],
      "text/plain": [
       "           MS SubClass  Lot Frontage  Lot Area  Overall Qual  Overall Cond  \\\n",
       "PID                                                                          \n",
       "534402140    -0.874337     -0.020364  0.089401     -0.779898      0.401692   \n",
       "527110020     0.545415     -0.020364 -0.212914      0.613457     -0.503660   \n",
       "909103020    -0.164461      0.302783  0.136891     -1.476576      1.307045   \n",
       "527162090    -0.874337     -0.310176 -0.293083      0.613457     -0.503660   \n",
       "534429150     0.545415      0.727139  0.147539     -0.083221      0.401692   \n",
       "\n",
       "           Year Built  Year Remod/Add  Mas Vnr Area  BsmtFin SF 1  \\\n",
       "PID                                                                 \n",
       "534402140   -0.203563       -0.907119      0.521606      0.627238   \n",
       "527110020    0.753722        0.534832     -0.445676     -0.952979   \n",
       "909103020   -2.052115        0.390637     -0.565228     -0.952979   \n",
       "527162090    0.753722        0.534832     -0.358729     -0.952979   \n",
       "534429150   -0.368613       -1.147444     -0.076153      0.259944   \n",
       "\n",
       "           BsmtFin SF 2  ...  Sale Type_ConLw  Sale Type_New  Sale Type_Oth  \\\n",
       "PID                      ...                                                  \n",
       "534402140      1.063638  ...        -0.049435      -0.304469      -0.049435   \n",
       "527110020     -0.286190  ...        -0.049435      -0.304469      -0.049435   \n",
       "909103020     -0.286190  ...        -0.049435      -0.304469      -0.049435   \n",
       "527162090     -0.286190  ...        -0.049435      -0.304469      -0.049435   \n",
       "534429150     -0.286190  ...        -0.049435      -0.304469      -0.049435   \n",
       "\n",
       "           Sale Type_VWD  Sale Type_WD   Sale Condition_AdjLand  \\\n",
       "PID                                                               \n",
       "534402140      -0.022086       0.398443               -0.069997   \n",
       "527110020      -0.022086       0.398443               -0.069997   \n",
       "909103020      -0.022086       0.398443               -0.069997   \n",
       "527162090      -0.022086       0.398443               -0.069997   \n",
       "534429150      -0.022086       0.398443               -0.069997   \n",
       "\n",
       "           Sale Condition_Alloca  Sale Condition_Family  \\\n",
       "PID                                                       \n",
       "534402140              -0.091422              -0.125895   \n",
       "527110020              -0.091422              -0.125895   \n",
       "909103020              -0.091422              -0.125895   \n",
       "527162090              -0.091422              -0.125895   \n",
       "534429150              -0.091422              -0.125895   \n",
       "\n",
       "           Sale Condition_Normal  Sale Condition_Partial  \n",
       "PID                                                       \n",
       "534402140               0.464508               -0.309224  \n",
       "527110020               0.464508               -0.309224  \n",
       "909103020               0.464508               -0.309224  \n",
       "527162090               0.464508               -0.309224  \n",
       "534429150               0.464508               -0.309224  \n",
       "\n",
       "[5 rows x 263 columns]"
      ]
     },
     "execution_count": 18,
     "metadata": {},
     "output_type": "execute_result"
    }
   ],
   "source": [
    "# Scale the train and test set features separately\n",
    "scaler = StandardScaler()\n",
    "numeric_cols = [col for col in X.columns if X[col].dtypes != 'category']\n",
    "X_train[numeric_cols]=scaler.fit_transform(X_train[numeric_cols])\n",
    "X_val[numeric_cols]=scaler.fit_transform(X_val[numeric_cols])\n",
    "X_train.head()"
   ]
  },
  {
   "cell_type": "markdown",
   "id": "c2db9fd0",
   "metadata": {
    "id": "c2db9fd0"
   },
   "source": [
    "### 2.2\n",
    "*Build a linear regression model, a regression tree and a kNN model. Carefully apply regularization for the linear regression model. Carefully select which variables to use for the kNN model.*"
   ]
  },
  {
   "cell_type": "code",
   "execution_count": 19,
   "id": "4bfa0a04",
   "metadata": {
    "id": "4bfa0a04"
   },
   "outputs": [
    {
     "name": "stderr",
     "output_type": "stream",
     "text": [
      "C:\\ProgramData\\anaconda3\\Lib\\site-packages\\sklearn\\linear_model\\_coordinate_descent.py:617: ConvergenceWarning: Objective did not converge. You might want to increase the number of iterations. Duality gap: 37665660944.050354, tolerance: 987615441.0702024\n",
      "  model = cd_fast.enet_coordinate_descent_gram(\n",
      "C:\\ProgramData\\anaconda3\\Lib\\site-packages\\sklearn\\linear_model\\_coordinate_descent.py:617: ConvergenceWarning: Objective did not converge. You might want to increase the number of iterations. Duality gap: 38524182984.963684, tolerance: 1095889296.763553\n",
      "  model = cd_fast.enet_coordinate_descent_gram(\n",
      "C:\\ProgramData\\anaconda3\\Lib\\site-packages\\sklearn\\linear_model\\_coordinate_descent.py:617: ConvergenceWarning: Objective did not converge. You might want to increase the number of iterations. Duality gap: 48021310975.770874, tolerance: 1107707653.1003366\n",
      "  model = cd_fast.enet_coordinate_descent_gram(\n",
      "C:\\ProgramData\\anaconda3\\Lib\\site-packages\\sklearn\\linear_model\\_coordinate_descent.py:617: ConvergenceWarning: Objective did not converge. You might want to increase the number of iterations. Duality gap: 155640800391.2318, tolerance: 1078062263.079792\n",
      "  model = cd_fast.enet_coordinate_descent_gram(\n"
     ]
    },
    {
     "name": "stdout",
     "output_type": "stream",
     "text": [
      "The Best Alpha using LassoCv: 490.01\n"
     ]
    },
    {
     "data": {
      "text/html": [
       "<style>#sk-container-id-1 {color: black;background-color: white;}#sk-container-id-1 pre{padding: 0;}#sk-container-id-1 div.sk-toggleable {background-color: white;}#sk-container-id-1 label.sk-toggleable__label {cursor: pointer;display: block;width: 100%;margin-bottom: 0;padding: 0.3em;box-sizing: border-box;text-align: center;}#sk-container-id-1 label.sk-toggleable__label-arrow:before {content: \"▸\";float: left;margin-right: 0.25em;color: #696969;}#sk-container-id-1 label.sk-toggleable__label-arrow:hover:before {color: black;}#sk-container-id-1 div.sk-estimator:hover label.sk-toggleable__label-arrow:before {color: black;}#sk-container-id-1 div.sk-toggleable__content {max-height: 0;max-width: 0;overflow: hidden;text-align: left;background-color: #f0f8ff;}#sk-container-id-1 div.sk-toggleable__content pre {margin: 0.2em;color: black;border-radius: 0.25em;background-color: #f0f8ff;}#sk-container-id-1 input.sk-toggleable__control:checked~div.sk-toggleable__content {max-height: 200px;max-width: 100%;overflow: auto;}#sk-container-id-1 input.sk-toggleable__control:checked~label.sk-toggleable__label-arrow:before {content: \"▾\";}#sk-container-id-1 div.sk-estimator input.sk-toggleable__control:checked~label.sk-toggleable__label {background-color: #d4ebff;}#sk-container-id-1 div.sk-label input.sk-toggleable__control:checked~label.sk-toggleable__label {background-color: #d4ebff;}#sk-container-id-1 input.sk-hidden--visually {border: 0;clip: rect(1px 1px 1px 1px);clip: rect(1px, 1px, 1px, 1px);height: 1px;margin: -1px;overflow: hidden;padding: 0;position: absolute;width: 1px;}#sk-container-id-1 div.sk-estimator {font-family: monospace;background-color: #f0f8ff;border: 1px dotted black;border-radius: 0.25em;box-sizing: border-box;margin-bottom: 0.5em;}#sk-container-id-1 div.sk-estimator:hover {background-color: #d4ebff;}#sk-container-id-1 div.sk-parallel-item::after {content: \"\";width: 100%;border-bottom: 1px solid gray;flex-grow: 1;}#sk-container-id-1 div.sk-label:hover label.sk-toggleable__label {background-color: #d4ebff;}#sk-container-id-1 div.sk-serial::before {content: \"\";position: absolute;border-left: 1px solid gray;box-sizing: border-box;top: 0;bottom: 0;left: 50%;z-index: 0;}#sk-container-id-1 div.sk-serial {display: flex;flex-direction: column;align-items: center;background-color: white;padding-right: 0.2em;padding-left: 0.2em;position: relative;}#sk-container-id-1 div.sk-item {position: relative;z-index: 1;}#sk-container-id-1 div.sk-parallel {display: flex;align-items: stretch;justify-content: center;background-color: white;position: relative;}#sk-container-id-1 div.sk-item::before, #sk-container-id-1 div.sk-parallel-item::before {content: \"\";position: absolute;border-left: 1px solid gray;box-sizing: border-box;top: 0;bottom: 0;left: 50%;z-index: -1;}#sk-container-id-1 div.sk-parallel-item {display: flex;flex-direction: column;z-index: 1;position: relative;background-color: white;}#sk-container-id-1 div.sk-parallel-item:first-child::after {align-self: flex-end;width: 50%;}#sk-container-id-1 div.sk-parallel-item:last-child::after {align-self: flex-start;width: 50%;}#sk-container-id-1 div.sk-parallel-item:only-child::after {width: 0;}#sk-container-id-1 div.sk-dashed-wrapped {border: 1px dashed gray;margin: 0 0.4em 0.5em 0.4em;box-sizing: border-box;padding-bottom: 0.4em;background-color: white;}#sk-container-id-1 div.sk-label label {font-family: monospace;font-weight: bold;display: inline-block;line-height: 1.2em;}#sk-container-id-1 div.sk-label-container {text-align: center;}#sk-container-id-1 div.sk-container {/* jupyter's `normalize.less` sets `[hidden] { display: none; }` but bootstrap.min.css set `[hidden] { display: none !important; }` so we also need the `!important` here to be able to override the default hidden behavior on the sphinx rendered scikit-learn.org. See: https://github.com/scikit-learn/scikit-learn/issues/21755 */display: inline-block !important;position: relative;}#sk-container-id-1 div.sk-text-repr-fallback {display: none;}</style><div id=\"sk-container-id-1\" class=\"sk-top-container\"><div class=\"sk-text-repr-fallback\"><pre>Lasso(alpha=490.01)</pre><b>In a Jupyter environment, please rerun this cell to show the HTML representation or trust the notebook. <br />On GitHub, the HTML representation is unable to render, please try loading this page with nbviewer.org.</b></div><div class=\"sk-container\" hidden><div class=\"sk-item\"><div class=\"sk-estimator sk-toggleable\"><input class=\"sk-toggleable__control sk-hidden--visually\" id=\"sk-estimator-id-1\" type=\"checkbox\" checked><label for=\"sk-estimator-id-1\" class=\"sk-toggleable__label sk-toggleable__label-arrow\">Lasso</label><div class=\"sk-toggleable__content\"><pre>Lasso(alpha=490.01)</pre></div></div></div></div></div>"
      ],
      "text/plain": [
       "Lasso(alpha=490.01)"
      ]
     },
     "execution_count": 19,
     "metadata": {},
     "output_type": "execute_result"
    }
   ],
   "source": [
    "# Linear model - USE LassoCV to get the best LASSO model\n",
    "\n",
    "##### CODE HERE #####\n",
    "alphas=np.arange(0.01,500,10)\n",
    "lasso_cv_grid=LassoCV(alphas=alphas,cv=5,max_iter=10000)\n",
    "lasso_cv_grid.fit(X_train,y_train)\n",
    "print('The Best Alpha using LassoCv:', lasso_cv_grid.alpha_)\n",
    "\n",
    "lin_reg_best=Lasso(alpha=lasso_cv_grid.alpha_)\n",
    "lin_reg_best.fit(X_train,y_train)"
   ]
  },
  {
   "cell_type": "code",
   "execution_count": 20,
   "id": "b5cb3683",
   "metadata": {
    "id": "b5cb3683"
   },
   "outputs": [
    {
     "name": "stdout",
     "output_type": "stream",
     "text": [
      "Best max depth: {'max_depth': 10}\n"
     ]
    },
    {
     "data": {
      "text/html": [
       "<style>#sk-container-id-2 {color: black;background-color: white;}#sk-container-id-2 pre{padding: 0;}#sk-container-id-2 div.sk-toggleable {background-color: white;}#sk-container-id-2 label.sk-toggleable__label {cursor: pointer;display: block;width: 100%;margin-bottom: 0;padding: 0.3em;box-sizing: border-box;text-align: center;}#sk-container-id-2 label.sk-toggleable__label-arrow:before {content: \"▸\";float: left;margin-right: 0.25em;color: #696969;}#sk-container-id-2 label.sk-toggleable__label-arrow:hover:before {color: black;}#sk-container-id-2 div.sk-estimator:hover label.sk-toggleable__label-arrow:before {color: black;}#sk-container-id-2 div.sk-toggleable__content {max-height: 0;max-width: 0;overflow: hidden;text-align: left;background-color: #f0f8ff;}#sk-container-id-2 div.sk-toggleable__content pre {margin: 0.2em;color: black;border-radius: 0.25em;background-color: #f0f8ff;}#sk-container-id-2 input.sk-toggleable__control:checked~div.sk-toggleable__content {max-height: 200px;max-width: 100%;overflow: auto;}#sk-container-id-2 input.sk-toggleable__control:checked~label.sk-toggleable__label-arrow:before {content: \"▾\";}#sk-container-id-2 div.sk-estimator input.sk-toggleable__control:checked~label.sk-toggleable__label {background-color: #d4ebff;}#sk-container-id-2 div.sk-label input.sk-toggleable__control:checked~label.sk-toggleable__label {background-color: #d4ebff;}#sk-container-id-2 input.sk-hidden--visually {border: 0;clip: rect(1px 1px 1px 1px);clip: rect(1px, 1px, 1px, 1px);height: 1px;margin: -1px;overflow: hidden;padding: 0;position: absolute;width: 1px;}#sk-container-id-2 div.sk-estimator {font-family: monospace;background-color: #f0f8ff;border: 1px dotted black;border-radius: 0.25em;box-sizing: border-box;margin-bottom: 0.5em;}#sk-container-id-2 div.sk-estimator:hover {background-color: #d4ebff;}#sk-container-id-2 div.sk-parallel-item::after {content: \"\";width: 100%;border-bottom: 1px solid gray;flex-grow: 1;}#sk-container-id-2 div.sk-label:hover label.sk-toggleable__label {background-color: #d4ebff;}#sk-container-id-2 div.sk-serial::before {content: \"\";position: absolute;border-left: 1px solid gray;box-sizing: border-box;top: 0;bottom: 0;left: 50%;z-index: 0;}#sk-container-id-2 div.sk-serial {display: flex;flex-direction: column;align-items: center;background-color: white;padding-right: 0.2em;padding-left: 0.2em;position: relative;}#sk-container-id-2 div.sk-item {position: relative;z-index: 1;}#sk-container-id-2 div.sk-parallel {display: flex;align-items: stretch;justify-content: center;background-color: white;position: relative;}#sk-container-id-2 div.sk-item::before, #sk-container-id-2 div.sk-parallel-item::before {content: \"\";position: absolute;border-left: 1px solid gray;box-sizing: border-box;top: 0;bottom: 0;left: 50%;z-index: -1;}#sk-container-id-2 div.sk-parallel-item {display: flex;flex-direction: column;z-index: 1;position: relative;background-color: white;}#sk-container-id-2 div.sk-parallel-item:first-child::after {align-self: flex-end;width: 50%;}#sk-container-id-2 div.sk-parallel-item:last-child::after {align-self: flex-start;width: 50%;}#sk-container-id-2 div.sk-parallel-item:only-child::after {width: 0;}#sk-container-id-2 div.sk-dashed-wrapped {border: 1px dashed gray;margin: 0 0.4em 0.5em 0.4em;box-sizing: border-box;padding-bottom: 0.4em;background-color: white;}#sk-container-id-2 div.sk-label label {font-family: monospace;font-weight: bold;display: inline-block;line-height: 1.2em;}#sk-container-id-2 div.sk-label-container {text-align: center;}#sk-container-id-2 div.sk-container {/* jupyter's `normalize.less` sets `[hidden] { display: none; }` but bootstrap.min.css set `[hidden] { display: none !important; }` so we also need the `!important` here to be able to override the default hidden behavior on the sphinx rendered scikit-learn.org. See: https://github.com/scikit-learn/scikit-learn/issues/21755 */display: inline-block !important;position: relative;}#sk-container-id-2 div.sk-text-repr-fallback {display: none;}</style><div id=\"sk-container-id-2\" class=\"sk-top-container\"><div class=\"sk-text-repr-fallback\"><pre>DecisionTreeRegressor(max_depth=10)</pre><b>In a Jupyter environment, please rerun this cell to show the HTML representation or trust the notebook. <br />On GitHub, the HTML representation is unable to render, please try loading this page with nbviewer.org.</b></div><div class=\"sk-container\" hidden><div class=\"sk-item\"><div class=\"sk-estimator sk-toggleable\"><input class=\"sk-toggleable__control sk-hidden--visually\" id=\"sk-estimator-id-2\" type=\"checkbox\" checked><label for=\"sk-estimator-id-2\" class=\"sk-toggleable__label sk-toggleable__label-arrow\">DecisionTreeRegressor</label><div class=\"sk-toggleable__content\"><pre>DecisionTreeRegressor(max_depth=10)</pre></div></div></div></div></div>"
      ],
      "text/plain": [
       "DecisionTreeRegressor(max_depth=10)"
      ]
     },
     "execution_count": 20,
     "metadata": {},
     "output_type": "execute_result"
    }
   ],
   "source": [
    "# Tree Model - Use max depth to control the complexity of the tree. Run a Grid search for multiple values of max depth.\n",
    "\n",
    "##### CODE HERE #####\n",
    "param_grid={'max_depth':np.arange(1,20)}\n",
    "grid=GridSearchCV(DecisionTreeRegressor(), param_grid, cv=5, scoring='neg_mean_squared_error')\n",
    "grid_search=grid.fit(X_train, y_train)\n",
    "print('Best max depth:', grid_search.best_params_)\n",
    "\n",
    "tree_reg_best=DecisionTreeRegressor(max_depth=grid_search.best_params_['max_depth'])\n",
    "tree_reg_best.fit(X_train, y_train)"
   ]
  },
  {
   "cell_type": "code",
   "execution_count": 21,
   "id": "f30e0223-6b12-4480-9fd7-85b81ce41312",
   "metadata": {},
   "outputs": [
    {
     "name": "stdout",
     "output_type": "stream",
     "text": [
      "Best ccp_alpha: 17852317.90450956\n"
     ]
    },
    {
     "data": {
      "text/html": [
       "<style>#sk-container-id-3 {color: black;background-color: white;}#sk-container-id-3 pre{padding: 0;}#sk-container-id-3 div.sk-toggleable {background-color: white;}#sk-container-id-3 label.sk-toggleable__label {cursor: pointer;display: block;width: 100%;margin-bottom: 0;padding: 0.3em;box-sizing: border-box;text-align: center;}#sk-container-id-3 label.sk-toggleable__label-arrow:before {content: \"▸\";float: left;margin-right: 0.25em;color: #696969;}#sk-container-id-3 label.sk-toggleable__label-arrow:hover:before {color: black;}#sk-container-id-3 div.sk-estimator:hover label.sk-toggleable__label-arrow:before {color: black;}#sk-container-id-3 div.sk-toggleable__content {max-height: 0;max-width: 0;overflow: hidden;text-align: left;background-color: #f0f8ff;}#sk-container-id-3 div.sk-toggleable__content pre {margin: 0.2em;color: black;border-radius: 0.25em;background-color: #f0f8ff;}#sk-container-id-3 input.sk-toggleable__control:checked~div.sk-toggleable__content {max-height: 200px;max-width: 100%;overflow: auto;}#sk-container-id-3 input.sk-toggleable__control:checked~label.sk-toggleable__label-arrow:before {content: \"▾\";}#sk-container-id-3 div.sk-estimator input.sk-toggleable__control:checked~label.sk-toggleable__label {background-color: #d4ebff;}#sk-container-id-3 div.sk-label input.sk-toggleable__control:checked~label.sk-toggleable__label {background-color: #d4ebff;}#sk-container-id-3 input.sk-hidden--visually {border: 0;clip: rect(1px 1px 1px 1px);clip: rect(1px, 1px, 1px, 1px);height: 1px;margin: -1px;overflow: hidden;padding: 0;position: absolute;width: 1px;}#sk-container-id-3 div.sk-estimator {font-family: monospace;background-color: #f0f8ff;border: 1px dotted black;border-radius: 0.25em;box-sizing: border-box;margin-bottom: 0.5em;}#sk-container-id-3 div.sk-estimator:hover {background-color: #d4ebff;}#sk-container-id-3 div.sk-parallel-item::after {content: \"\";width: 100%;border-bottom: 1px solid gray;flex-grow: 1;}#sk-container-id-3 div.sk-label:hover label.sk-toggleable__label {background-color: #d4ebff;}#sk-container-id-3 div.sk-serial::before {content: \"\";position: absolute;border-left: 1px solid gray;box-sizing: border-box;top: 0;bottom: 0;left: 50%;z-index: 0;}#sk-container-id-3 div.sk-serial {display: flex;flex-direction: column;align-items: center;background-color: white;padding-right: 0.2em;padding-left: 0.2em;position: relative;}#sk-container-id-3 div.sk-item {position: relative;z-index: 1;}#sk-container-id-3 div.sk-parallel {display: flex;align-items: stretch;justify-content: center;background-color: white;position: relative;}#sk-container-id-3 div.sk-item::before, #sk-container-id-3 div.sk-parallel-item::before {content: \"\";position: absolute;border-left: 1px solid gray;box-sizing: border-box;top: 0;bottom: 0;left: 50%;z-index: -1;}#sk-container-id-3 div.sk-parallel-item {display: flex;flex-direction: column;z-index: 1;position: relative;background-color: white;}#sk-container-id-3 div.sk-parallel-item:first-child::after {align-self: flex-end;width: 50%;}#sk-container-id-3 div.sk-parallel-item:last-child::after {align-self: flex-start;width: 50%;}#sk-container-id-3 div.sk-parallel-item:only-child::after {width: 0;}#sk-container-id-3 div.sk-dashed-wrapped {border: 1px dashed gray;margin: 0 0.4em 0.5em 0.4em;box-sizing: border-box;padding-bottom: 0.4em;background-color: white;}#sk-container-id-3 div.sk-label label {font-family: monospace;font-weight: bold;display: inline-block;line-height: 1.2em;}#sk-container-id-3 div.sk-label-container {text-align: center;}#sk-container-id-3 div.sk-container {/* jupyter's `normalize.less` sets `[hidden] { display: none; }` but bootstrap.min.css set `[hidden] { display: none !important; }` so we also need the `!important` here to be able to override the default hidden behavior on the sphinx rendered scikit-learn.org. See: https://github.com/scikit-learn/scikit-learn/issues/21755 */display: inline-block !important;position: relative;}#sk-container-id-3 div.sk-text-repr-fallback {display: none;}</style><div id=\"sk-container-id-3\" class=\"sk-top-container\"><div class=\"sk-text-repr-fallback\"><pre>DecisionTreeRegressor(ccp_alpha=17852317.90450956, random_state=0)</pre><b>In a Jupyter environment, please rerun this cell to show the HTML representation or trust the notebook. <br />On GitHub, the HTML representation is unable to render, please try loading this page with nbviewer.org.</b></div><div class=\"sk-container\" hidden><div class=\"sk-item\"><div class=\"sk-estimator sk-toggleable\"><input class=\"sk-toggleable__control sk-hidden--visually\" id=\"sk-estimator-id-3\" type=\"checkbox\" checked><label for=\"sk-estimator-id-3\" class=\"sk-toggleable__label sk-toggleable__label-arrow\">DecisionTreeRegressor</label><div class=\"sk-toggleable__content\"><pre>DecisionTreeRegressor(ccp_alpha=17852317.90450956, random_state=0)</pre></div></div></div></div></div>"
      ],
      "text/plain": [
       "DecisionTreeRegressor(ccp_alpha=17852317.90450956, random_state=0)"
      ]
     },
     "execution_count": 21,
     "metadata": {},
     "output_type": "execute_result"
    }
   ],
   "source": [
    "tree_reg=DecisionTreeRegressor(random_state=0)\n",
    "path=tree_reg.cost_complexity_pruning_path(X_train,y_train)\n",
    "ccp_alphas,impurities=path.ccp_alphas,path.impurities\n",
    "#creating a regression tree for each aplhas and storing them in a list\n",
    "regs=[]\n",
    "for ccp_alpha in ccp_alphas:\n",
    "    curr_reg = DecisionTreeRegressor(random_state=0, ccp_alpha=ccp_alpha)\n",
    "    curr_reg.fit(X_train,y_train)\n",
    "    regs.append(curr_reg)\n",
    "\n",
    "#creating empty list to store accuracy value for val set\n",
    "val_rmse=[]\n",
    "#iterating over the list of regression tree\n",
    "for r in regs:\n",
    "    y_pred=r.predict(X_val)\n",
    "    #calculating the accuracy & apending the list\n",
    "    val_rmse.append(rmse(y_val,y_pred))\n",
    "\n",
    "\n",
    "#finding  the best value for cc_alpha with least RMSE\n",
    "best_ccp_alpha= ccp_alphas[val_rmse.index(min(val_rmse))]\n",
    "print('Best ccp_alpha:', best_ccp_alpha)\n",
    "\n",
    "tree_reg_best1=DecisionTreeRegressor(random_state=0, ccp_alpha=best_ccp_alpha)\n",
    "tree_reg_best1.fit(X_train, y_train)"
   ]
  },
  {
   "cell_type": "code",
   "execution_count": 24,
   "id": "da79ce2d",
   "metadata": {
    "id": "da79ce2d"
   },
   "outputs": [
    {
     "name": "stdout",
     "output_type": "stream",
     "text": [
      "The Min RMSE at n_neighbors= 9\n"
     ]
    },
    {
     "data": {
      "text/html": [
       "<style>#sk-container-id-4 {color: black;background-color: white;}#sk-container-id-4 pre{padding: 0;}#sk-container-id-4 div.sk-toggleable {background-color: white;}#sk-container-id-4 label.sk-toggleable__label {cursor: pointer;display: block;width: 100%;margin-bottom: 0;padding: 0.3em;box-sizing: border-box;text-align: center;}#sk-container-id-4 label.sk-toggleable__label-arrow:before {content: \"▸\";float: left;margin-right: 0.25em;color: #696969;}#sk-container-id-4 label.sk-toggleable__label-arrow:hover:before {color: black;}#sk-container-id-4 div.sk-estimator:hover label.sk-toggleable__label-arrow:before {color: black;}#sk-container-id-4 div.sk-toggleable__content {max-height: 0;max-width: 0;overflow: hidden;text-align: left;background-color: #f0f8ff;}#sk-container-id-4 div.sk-toggleable__content pre {margin: 0.2em;color: black;border-radius: 0.25em;background-color: #f0f8ff;}#sk-container-id-4 input.sk-toggleable__control:checked~div.sk-toggleable__content {max-height: 200px;max-width: 100%;overflow: auto;}#sk-container-id-4 input.sk-toggleable__control:checked~label.sk-toggleable__label-arrow:before {content: \"▾\";}#sk-container-id-4 div.sk-estimator input.sk-toggleable__control:checked~label.sk-toggleable__label {background-color: #d4ebff;}#sk-container-id-4 div.sk-label input.sk-toggleable__control:checked~label.sk-toggleable__label {background-color: #d4ebff;}#sk-container-id-4 input.sk-hidden--visually {border: 0;clip: rect(1px 1px 1px 1px);clip: rect(1px, 1px, 1px, 1px);height: 1px;margin: -1px;overflow: hidden;padding: 0;position: absolute;width: 1px;}#sk-container-id-4 div.sk-estimator {font-family: monospace;background-color: #f0f8ff;border: 1px dotted black;border-radius: 0.25em;box-sizing: border-box;margin-bottom: 0.5em;}#sk-container-id-4 div.sk-estimator:hover {background-color: #d4ebff;}#sk-container-id-4 div.sk-parallel-item::after {content: \"\";width: 100%;border-bottom: 1px solid gray;flex-grow: 1;}#sk-container-id-4 div.sk-label:hover label.sk-toggleable__label {background-color: #d4ebff;}#sk-container-id-4 div.sk-serial::before {content: \"\";position: absolute;border-left: 1px solid gray;box-sizing: border-box;top: 0;bottom: 0;left: 50%;z-index: 0;}#sk-container-id-4 div.sk-serial {display: flex;flex-direction: column;align-items: center;background-color: white;padding-right: 0.2em;padding-left: 0.2em;position: relative;}#sk-container-id-4 div.sk-item {position: relative;z-index: 1;}#sk-container-id-4 div.sk-parallel {display: flex;align-items: stretch;justify-content: center;background-color: white;position: relative;}#sk-container-id-4 div.sk-item::before, #sk-container-id-4 div.sk-parallel-item::before {content: \"\";position: absolute;border-left: 1px solid gray;box-sizing: border-box;top: 0;bottom: 0;left: 50%;z-index: -1;}#sk-container-id-4 div.sk-parallel-item {display: flex;flex-direction: column;z-index: 1;position: relative;background-color: white;}#sk-container-id-4 div.sk-parallel-item:first-child::after {align-self: flex-end;width: 50%;}#sk-container-id-4 div.sk-parallel-item:last-child::after {align-self: flex-start;width: 50%;}#sk-container-id-4 div.sk-parallel-item:only-child::after {width: 0;}#sk-container-id-4 div.sk-dashed-wrapped {border: 1px dashed gray;margin: 0 0.4em 0.5em 0.4em;box-sizing: border-box;padding-bottom: 0.4em;background-color: white;}#sk-container-id-4 div.sk-label label {font-family: monospace;font-weight: bold;display: inline-block;line-height: 1.2em;}#sk-container-id-4 div.sk-label-container {text-align: center;}#sk-container-id-4 div.sk-container {/* jupyter's `normalize.less` sets `[hidden] { display: none; }` but bootstrap.min.css set `[hidden] { display: none !important; }` so we also need the `!important` here to be able to override the default hidden behavior on the sphinx rendered scikit-learn.org. See: https://github.com/scikit-learn/scikit-learn/issues/21755 */display: inline-block !important;position: relative;}#sk-container-id-4 div.sk-text-repr-fallback {display: none;}</style><div id=\"sk-container-id-4\" class=\"sk-top-container\"><div class=\"sk-text-repr-fallback\"><pre>KNeighborsRegressor(n_neighbors=9)</pre><b>In a Jupyter environment, please rerun this cell to show the HTML representation or trust the notebook. <br />On GitHub, the HTML representation is unable to render, please try loading this page with nbviewer.org.</b></div><div class=\"sk-container\" hidden><div class=\"sk-item\"><div class=\"sk-estimator sk-toggleable\"><input class=\"sk-toggleable__control sk-hidden--visually\" id=\"sk-estimator-id-4\" type=\"checkbox\" checked><label for=\"sk-estimator-id-4\" class=\"sk-toggleable__label sk-toggleable__label-arrow\">KNeighborsRegressor</label><div class=\"sk-toggleable__content\"><pre>KNeighborsRegressor(n_neighbors=9)</pre></div></div></div></div></div>"
      ],
      "text/plain": [
       "KNeighborsRegressor(n_neighbors=9)"
      ]
     },
     "execution_count": 24,
     "metadata": {},
     "output_type": "execute_result"
    }
   ],
   "source": [
    "# KNN Model\n",
    "\n",
    "# Select the top 20 most correlated features and store it in a list called 'top_20_features' (using similar correlation table from Task 1)\n",
    "\n",
    "top_20_features = corr_df.loc[:20][\"Column\"].tolist()\n",
    "\n",
    "\n",
    "#For building the model, you must use X_train[top_20_features]\n",
    "\n",
    "param_grid={'n_neighbors':np.arange(1,21)}\n",
    "grid=GridSearchCV(KNeighborsRegressor(), param_grid, cv=5, scoring='neg_mean_squared_error', return_train_score=False)\n",
    "grid_search = grid.fit(X_train[top_20_features], y_train)\n",
    "print('The Min RMSE at n_neighbors=', grid_search.best_params_['n_neighbors'])\n",
    "\n",
    "\n",
    "\n",
    "# Find the value of k for which RMSE is minimum, using GridSearchCV\n",
    "knn_reg_best=KNeighborsRegressor(n_neighbors=grid_search.best_params_['n_neighbors'])\n",
    "knn_reg_best.fit(X_train[top_20_features], y_train)"
   ]
  },
  {
   "cell_type": "markdown",
   "id": "b0b5f15c",
   "metadata": {
    "id": "b0b5f15c"
   },
   "source": [
    "### 2.3\n",
    "*Summarize the predictive performance in terms of RMSE.* \n",
    "1. *Calculate the RMSE values for train and validation for all the models*\n",
    "2. *Display them in a tabulated format*\n",
    "\n",
    "Hint: You may use the code that you've learnt in the 'Model selection' module"
   ]
  },
  {
   "cell_type": "code",
   "execution_count": 32,
   "id": "ec533b4a",
   "metadata": {
    "id": "ec533b4a"
   },
   "outputs": [
    {
     "data": {
      "text/html": [
       "<div>\n",
       "<style scoped>\n",
       "    .dataframe tbody tr th:only-of-type {\n",
       "        vertical-align: middle;\n",
       "    }\n",
       "\n",
       "    .dataframe tbody tr th {\n",
       "        vertical-align: top;\n",
       "    }\n",
       "\n",
       "    .dataframe thead th {\n",
       "        text-align: right;\n",
       "    }\n",
       "</style>\n",
       "<table border=\"1\" class=\"dataframe\">\n",
       "  <thead>\n",
       "    <tr style=\"text-align: right;\">\n",
       "      <th></th>\n",
       "      <th>Model</th>\n",
       "      <th>Train RMSE</th>\n",
       "      <th>Validation RMSE</th>\n",
       "    </tr>\n",
       "  </thead>\n",
       "  <tbody>\n",
       "    <tr>\n",
       "      <th>0</th>\n",
       "      <td>Linear Regression</td>\n",
       "      <td>23527.661772</td>\n",
       "      <td>26348.982101</td>\n",
       "    </tr>\n",
       "    <tr>\n",
       "      <th>1</th>\n",
       "      <td>Decision Tree</td>\n",
       "      <td>10370.862557</td>\n",
       "      <td>36621.523535</td>\n",
       "    </tr>\n",
       "    <tr>\n",
       "      <th>2</th>\n",
       "      <td>KNN</td>\n",
       "      <td>29219.041763</td>\n",
       "      <td>28410.524886</td>\n",
       "    </tr>\n",
       "  </tbody>\n",
       "</table>\n",
       "</div>"
      ],
      "text/plain": [
       "               Model    Train RMSE  Validation RMSE\n",
       "0  Linear Regression  23527.661772     26348.982101\n",
       "1      Decision Tree  10370.862557     36621.523535\n",
       "2                KNN  29219.041763     28410.524886"
      ]
     },
     "execution_count": 32,
     "metadata": {},
     "output_type": "execute_result"
    }
   ],
   "source": [
    "#linear regression\n",
    "\n",
    "##### CODE HERE #####\n",
    "lin_train_rmse = rmse(y_train, lin_reg_best.predict(X_train))\n",
    "lin_val_rmse=rmse(y_val, lin_reg_best.predict(X_val))\n",
    "#max depth pruned tree\n",
    "\n",
    "##### CODE HERE #####\n",
    "tree_train_rmse = rmse(y_train, tree_reg_best.predict(X_train))\n",
    "tree_val_rmse = rmse(y_val, tree_reg_best.predict(X_val))\n",
    "\n",
    "\n",
    "#knn\n",
    "\n",
    "##### CODE HERE #####\n",
    "knn_train_rmse = rmse(y_train,knn_reg_best.predict(X_train[top_20_features]))\n",
    "knn_val_rmse = rmse(y_val, knn_reg_best.predict(X_val[top_20_features]))\n",
    "#Display the RMSEs\n",
    "\n",
    "##### CODE HERE #####\n",
    "pd.DataFrame({'Model':['Linear Regression', 'Decision Tree','KNN'],\n",
    "              'Train RMSE': [lin_train_rmse, tree_train_rmse, knn_train_rmse],\n",
    "              'Validation RMSE':[lin_val_rmse, tree_val_rmse, knn_val_rmse]})"
   ]
  },
  {
   "cell_type": "markdown",
   "id": "40165e94",
   "metadata": {
    "id": "40165e94"
   },
   "source": [
    "### 2.4\n",
    "*Study the largest errors that you made (largest overpredictions, largest underpredictions). What may be some of the reasons why the model is over/under predicting? Do these insights possibly help you improve the models?*"
   ]
  },
  {
   "cell_type": "code",
   "execution_count": 34,
   "id": "53519128",
   "metadata": {
    "id": "53519128"
   },
   "outputs": [
    {
     "data": {
      "image/png": "[encoded data removed]",
      "text/plain": [
       "<Figure size 640x480 with 1 Axes>"
      ]
     },
     "metadata": {},
     "output_type": "display_data"
    }
   ],
   "source": [
    "# Visualize the errors - plot a scatterplot of the residuals vs the true SalePrice\n",
    "\n",
    "##### CODE HERE #####\n",
    "residual= lin_reg_best.predict(X_val)-y_val\n",
    "plt.scatter(y_val,residual)\n",
    "plt.xlabel('Sale Price')\n",
    "plt.ylabel('Residuals')\n",
    "plt.title('Residuals vs Sale Price')\n",
    "plt.grid\n",
    "plt.show()"
   ]
  },
  {
   "cell_type": "code",
   "execution_count": 37,
   "id": "11f10a15-fbf8-4e62-b0a0-e114f9fb0355",
   "metadata": {},
   "outputs": [
    {
     "data": {
      "text/html": [
       "<div>\n",
       "<style scoped>\n",
       "    .dataframe tbody tr th:only-of-type {\n",
       "        vertical-align: middle;\n",
       "    }\n",
       "\n",
       "    .dataframe tbody tr th {\n",
       "        vertical-align: top;\n",
       "    }\n",
       "\n",
       "    .dataframe thead th {\n",
       "        text-align: right;\n",
       "    }\n",
       "</style>\n",
       "<table border=\"1\" class=\"dataframe\">\n",
       "  <thead>\n",
       "    <tr style=\"text-align: right;\">\n",
       "      <th></th>\n",
       "      <th>MS SubClass</th>\n",
       "      <th>Lot Frontage</th>\n",
       "      <th>Lot Area</th>\n",
       "      <th>Overall Qual</th>\n",
       "      <th>Overall Cond</th>\n",
       "      <th>Year Built</th>\n",
       "      <th>Year Remod/Add</th>\n",
       "      <th>Mas Vnr Area</th>\n",
       "      <th>BsmtFin SF 1</th>\n",
       "      <th>BsmtFin SF 2</th>\n",
       "      <th>...</th>\n",
       "      <th>Sale Type_ConLw</th>\n",
       "      <th>Sale Type_New</th>\n",
       "      <th>Sale Type_Oth</th>\n",
       "      <th>Sale Type_VWD</th>\n",
       "      <th>Sale Type_WD</th>\n",
       "      <th>Sale Condition_AdjLand</th>\n",
       "      <th>Sale Condition_Alloca</th>\n",
       "      <th>Sale Condition_Family</th>\n",
       "      <th>Sale Condition_Normal</th>\n",
       "      <th>Sale Condition_Partial</th>\n",
       "    </tr>\n",
       "    <tr>\n",
       "      <th>PID</th>\n",
       "      <th></th>\n",
       "      <th></th>\n",
       "      <th></th>\n",
       "      <th></th>\n",
       "      <th></th>\n",
       "      <th></th>\n",
       "      <th></th>\n",
       "      <th></th>\n",
       "      <th></th>\n",
       "      <th></th>\n",
       "      <th></th>\n",
       "      <th></th>\n",
       "      <th></th>\n",
       "      <th></th>\n",
       "      <th></th>\n",
       "      <th></th>\n",
       "      <th></th>\n",
       "      <th></th>\n",
       "      <th></th>\n",
       "      <th></th>\n",
       "      <th></th>\n",
       "    </tr>\n",
       "  </thead>\n",
       "  <tbody>\n",
       "    <tr>\n",
       "      <th>905426150</th>\n",
       "      <td>0.496790</td>\n",
       "      <td>0.034666</td>\n",
       "      <td>1.375381</td>\n",
       "      <td>-0.027811</td>\n",
       "      <td>1.260916</td>\n",
       "      <td>-0.115397</td>\n",
       "      <td>-0.805999</td>\n",
       "      <td>-0.5712</td>\n",
       "      <td>-1.022573</td>\n",
       "      <td>-0.312525</td>\n",
       "      <td>...</td>\n",
       "      <td>-0.058521</td>\n",
       "      <td>-0.282582</td>\n",
       "      <td>-0.047755</td>\n",
       "      <td>0.0</td>\n",
       "      <td>0.384083</td>\n",
       "      <td>-0.047755</td>\n",
       "      <td>11.161157</td>\n",
       "      <td>-0.12722</td>\n",
       "      <td>-2.178325</td>\n",
       "      <td>-0.284922</td>\n",
       "    </tr>\n",
       "    <tr>\n",
       "      <th>907196040</th>\n",
       "      <td>0.036644</td>\n",
       "      <td>0.306073</td>\n",
       "      <td>0.325850</td>\n",
       "      <td>0.712980</td>\n",
       "      <td>-0.513856</td>\n",
       "      <td>1.016827</td>\n",
       "      <td>0.867974</td>\n",
       "      <td>-0.5712</td>\n",
       "      <td>0.540892</td>\n",
       "      <td>-0.312525</td>\n",
       "      <td>...</td>\n",
       "      <td>-0.058521</td>\n",
       "      <td>-0.282582</td>\n",
       "      <td>-0.047755</td>\n",
       "      <td>0.0</td>\n",
       "      <td>0.384083</td>\n",
       "      <td>-0.047755</td>\n",
       "      <td>-0.089596</td>\n",
       "      <td>-0.12722</td>\n",
       "      <td>0.459068</td>\n",
       "      <td>-0.284922</td>\n",
       "    </tr>\n",
       "    <tr>\n",
       "      <th>914475020</th>\n",
       "      <td>0.496790</td>\n",
       "      <td>0.352440</td>\n",
       "      <td>0.002228</td>\n",
       "      <td>-0.027811</td>\n",
       "      <td>0.373530</td>\n",
       "      <td>0.250911</td>\n",
       "      <td>-0.279893</td>\n",
       "      <td>-0.5712</td>\n",
       "      <td>0.208391</td>\n",
       "      <td>-0.312525</td>\n",
       "      <td>...</td>\n",
       "      <td>-0.058521</td>\n",
       "      <td>-0.282582</td>\n",
       "      <td>-0.047755</td>\n",
       "      <td>0.0</td>\n",
       "      <td>0.384083</td>\n",
       "      <td>-0.047755</td>\n",
       "      <td>-0.089596</td>\n",
       "      <td>-0.12722</td>\n",
       "      <td>0.459068</td>\n",
       "      <td>-0.284922</td>\n",
       "    </tr>\n",
       "  </tbody>\n",
       "</table>\n",
       "<p>3 rows × 263 columns</p>\n",
       "</div>"
      ],
      "text/plain": [
       "           MS SubClass  Lot Frontage  Lot Area  Overall Qual  Overall Cond  \\\n",
       "PID                                                                          \n",
       "905426150     0.496790      0.034666  1.375381     -0.027811      1.260916   \n",
       "907196040     0.036644      0.306073  0.325850      0.712980     -0.513856   \n",
       "914475020     0.496790      0.352440  0.002228     -0.027811      0.373530   \n",
       "\n",
       "           Year Built  Year Remod/Add  Mas Vnr Area  BsmtFin SF 1  \\\n",
       "PID                                                                 \n",
       "905426150   -0.115397       -0.805999       -0.5712     -1.022573   \n",
       "907196040    1.016827        0.867974       -0.5712      0.540892   \n",
       "914475020    0.250911       -0.279893       -0.5712      0.208391   \n",
       "\n",
       "           BsmtFin SF 2  ...  Sale Type_ConLw  Sale Type_New  Sale Type_Oth  \\\n",
       "PID                      ...                                                  \n",
       "905426150     -0.312525  ...        -0.058521      -0.282582      -0.047755   \n",
       "907196040     -0.312525  ...        -0.058521      -0.282582      -0.047755   \n",
       "914475020     -0.312525  ...        -0.058521      -0.282582      -0.047755   \n",
       "\n",
       "           Sale Type_VWD  Sale Type_WD   Sale Condition_AdjLand  \\\n",
       "PID                                                               \n",
       "905426150            0.0       0.384083               -0.047755   \n",
       "907196040            0.0       0.384083               -0.047755   \n",
       "914475020            0.0       0.384083               -0.047755   \n",
       "\n",
       "           Sale Condition_Alloca  Sale Condition_Family  \\\n",
       "PID                                                       \n",
       "905426150              11.161157               -0.12722   \n",
       "907196040              -0.089596               -0.12722   \n",
       "914475020              -0.089596               -0.12722   \n",
       "\n",
       "           Sale Condition_Normal  Sale Condition_Partial  \n",
       "PID                                                       \n",
       "905426150              -2.178325               -0.284922  \n",
       "907196040               0.459068               -0.284922  \n",
       "914475020               0.459068               -0.284922  \n",
       "\n",
       "[3 rows x 263 columns]"
      ]
     },
     "execution_count": 37,
     "metadata": {},
     "output_type": "execute_result"
    }
   ],
   "source": [
    "X_val[(residual <-1e5) & (y_val < 375000)]"
   ]
  },
  {
   "cell_type": "markdown",
   "id": "8b007ee9",
   "metadata": {
    "id": "8b007ee9"
   },
   "source": [
    "# Task 3"
   ]
  },
  {
   "cell_type": "markdown",
   "id": "fd34e97d",
   "metadata": {
    "id": "fd34e97d"
   },
   "source": [
    "### 3.1\n",
    "*Are you able to improve your linear regression model by taking the log of the dependent variable? (remember to translate your predicted outcome back to the original units before calculating the RMSE)*"
   ]
  },
  {
   "cell_type": "markdown",
   "id": "3611aecb",
   "metadata": {
    "id": "3611aecb"
   },
   "source": [
    "*Create a visualization, that highlights the distribution of prices when after taking log of the dependent variable*\n",
    "\n",
    "Hint - You may use [numpy.log()](https://numpy.org/doc/stable/reference/generated/numpy.log.html) to get the log of the dependent variable"
   ]
  },
  {
   "cell_type": "code",
   "execution_count": 41,
   "id": "4783d03f",
   "metadata": {
    "id": "4783d03f"
   },
   "outputs": [
    {
     "name": "stdout",
     "output_type": "stream",
     "text": [
      "Best Alpha: 0.005200000000000002\n"
     ]
    },
    {
     "data": {
      "text/html": [
       "<style>#sk-container-id-6 {color: black;background-color: white;}#sk-container-id-6 pre{padding: 0;}#sk-container-id-6 div.sk-toggleable {background-color: white;}#sk-container-id-6 label.sk-toggleable__label {cursor: pointer;display: block;width: 100%;margin-bottom: 0;padding: 0.3em;box-sizing: border-box;text-align: center;}#sk-container-id-6 label.sk-toggleable__label-arrow:before {content: \"▸\";float: left;margin-right: 0.25em;color: #696969;}#sk-container-id-6 label.sk-toggleable__label-arrow:hover:before {color: black;}#sk-container-id-6 div.sk-estimator:hover label.sk-toggleable__label-arrow:before {color: black;}#sk-container-id-6 div.sk-toggleable__content {max-height: 0;max-width: 0;overflow: hidden;text-align: left;background-color: #f0f8ff;}#sk-container-id-6 div.sk-toggleable__content pre {margin: 0.2em;color: black;border-radius: 0.25em;background-color: #f0f8ff;}#sk-container-id-6 input.sk-toggleable__control:checked~div.sk-toggleable__content {max-height: 200px;max-width: 100%;overflow: auto;}#sk-container-id-6 input.sk-toggleable__control:checked~label.sk-toggleable__label-arrow:before {content: \"▾\";}#sk-container-id-6 div.sk-estimator input.sk-toggleable__control:checked~label.sk-toggleable__label {background-color: #d4ebff;}#sk-container-id-6 div.sk-label input.sk-toggleable__control:checked~label.sk-toggleable__label {background-color: #d4ebff;}#sk-container-id-6 input.sk-hidden--visually {border: 0;clip: rect(1px 1px 1px 1px);clip: rect(1px, 1px, 1px, 1px);height: 1px;margin: -1px;overflow: hidden;padding: 0;position: absolute;width: 1px;}#sk-container-id-6 div.sk-estimator {font-family: monospace;background-color: #f0f8ff;border: 1px dotted black;border-radius: 0.25em;box-sizing: border-box;margin-bottom: 0.5em;}#sk-container-id-6 div.sk-estimator:hover {background-color: #d4ebff;}#sk-container-id-6 div.sk-parallel-item::after {content: \"\";width: 100%;border-bottom: 1px solid gray;flex-grow: 1;}#sk-container-id-6 div.sk-label:hover label.sk-toggleable__label {background-color: #d4ebff;}#sk-container-id-6 div.sk-serial::before {content: \"\";position: absolute;border-left: 1px solid gray;box-sizing: border-box;top: 0;bottom: 0;left: 50%;z-index: 0;}#sk-container-id-6 div.sk-serial {display: flex;flex-direction: column;align-items: center;background-color: white;padding-right: 0.2em;padding-left: 0.2em;position: relative;}#sk-container-id-6 div.sk-item {position: relative;z-index: 1;}#sk-container-id-6 div.sk-parallel {display: flex;align-items: stretch;justify-content: center;background-color: white;position: relative;}#sk-container-id-6 div.sk-item::before, #sk-container-id-6 div.sk-parallel-item::before {content: \"\";position: absolute;border-left: 1px solid gray;box-sizing: border-box;top: 0;bottom: 0;left: 50%;z-index: -1;}#sk-container-id-6 div.sk-parallel-item {display: flex;flex-direction: column;z-index: 1;position: relative;background-color: white;}#sk-container-id-6 div.sk-parallel-item:first-child::after {align-self: flex-end;width: 50%;}#sk-container-id-6 div.sk-parallel-item:last-child::after {align-self: flex-start;width: 50%;}#sk-container-id-6 div.sk-parallel-item:only-child::after {width: 0;}#sk-container-id-6 div.sk-dashed-wrapped {border: 1px dashed gray;margin: 0 0.4em 0.5em 0.4em;box-sizing: border-box;padding-bottom: 0.4em;background-color: white;}#sk-container-id-6 div.sk-label label {font-family: monospace;font-weight: bold;display: inline-block;line-height: 1.2em;}#sk-container-id-6 div.sk-label-container {text-align: center;}#sk-container-id-6 div.sk-container {/* jupyter's `normalize.less` sets `[hidden] { display: none; }` but bootstrap.min.css set `[hidden] { display: none !important; }` so we also need the `!important` here to be able to override the default hidden behavior on the sphinx rendered scikit-learn.org. See: https://github.com/scikit-learn/scikit-learn/issues/21755 */display: inline-block !important;position: relative;}#sk-container-id-6 div.sk-text-repr-fallback {display: none;}</style><div id=\"sk-container-id-6\" class=\"sk-top-container\"><div class=\"sk-text-repr-fallback\"><pre>Lasso(alpha=0.005200000000000002, max_iter=10000)</pre><b>In a Jupyter environment, please rerun this cell to show the HTML representation or trust the notebook. <br />On GitHub, the HTML representation is unable to render, please try loading this page with nbviewer.org.</b></div><div class=\"sk-container\" hidden><div class=\"sk-item\"><div class=\"sk-estimator sk-toggleable\"><input class=\"sk-toggleable__control sk-hidden--visually\" id=\"sk-estimator-id-6\" type=\"checkbox\" checked><label for=\"sk-estimator-id-6\" class=\"sk-toggleable__label sk-toggleable__label-arrow\">Lasso</label><div class=\"sk-toggleable__content\"><pre>Lasso(alpha=0.005200000000000002, max_iter=10000)</pre></div></div></div></div></div>"
      ],
      "text/plain": [
       "Lasso(alpha=0.005200000000000002, max_iter=10000)"
      ]
     },
     "execution_count": 41,
     "metadata": {},
     "output_type": "execute_result"
    }
   ],
   "source": [
    "# Linear model - Using the log of the SalePrice as the dependent variable, run the LassoCV to obtain the best LASSO model\n",
    "# Note that the optimum value of Alpha for this model would also be scaled down to a log scale. It's a better idea to simply search for the best alpha once again using LassoCV.\n",
    "\n",
    "alphas = np.arange(0.001,.1,.0001)\n",
    "lasso_cv_grid=LassoCV(alphas=alphas, cv=5, random_state=1, max_iter=10000)\n",
    "lasso_cv_grid.fit(X_train, np.log2(y_train))\n",
    "print('Best Alpha:', lasso_cv_grid.alpha_)\n",
    "lin_reg_best_log= Lasso(alpha= lasso_cv_grid.alpha_, max_iter=10000)\n",
    "lin_reg_best_log.fit(X_train, np.log2(y_train))"
   ]
  },
  {
   "cell_type": "code",
   "execution_count": 43,
   "id": "i1-mZsHXA2_U",
   "metadata": {
    "id": "i1-mZsHXA2_U"
   },
   "outputs": [],
   "source": [
    "# Calculate the RMSE values for train and the test set\n",
    "\n",
    "##### CODE HERE #####\n",
    "lin_train_rmse_log=rmse(np.log2(y_train), lin_reg_best_log.predict(X_train))\n",
    "lin_val_rmse_log=rmse(np.log2(y_val), lin_reg_best_log.predict(X_val))"
   ]
  },
  {
   "cell_type": "code",
   "execution_count": 44,
   "id": "3ddoV85gA3es",
   "metadata": {
    "id": "3ddoV85gA3es"
   },
   "outputs": [
    {
     "data": {
      "text/html": [
       "<div>\n",
       "<style scoped>\n",
       "    .dataframe tbody tr th:only-of-type {\n",
       "        vertical-align: middle;\n",
       "    }\n",
       "\n",
       "    .dataframe tbody tr th {\n",
       "        vertical-align: top;\n",
       "    }\n",
       "\n",
       "    .dataframe thead th {\n",
       "        text-align: right;\n",
       "    }\n",
       "</style>\n",
       "<table border=\"1\" class=\"dataframe\">\n",
       "  <thead>\n",
       "    <tr style=\"text-align: right;\">\n",
       "      <th></th>\n",
       "      <th>Model</th>\n",
       "      <th>Train RNSE</th>\n",
       "      <th>Val RMSE</th>\n",
       "    </tr>\n",
       "  </thead>\n",
       "  <tbody>\n",
       "    <tr>\n",
       "      <th>0</th>\n",
       "      <td>Linear Regression</td>\n",
       "      <td>23527.661772</td>\n",
       "      <td>26348.982101</td>\n",
       "    </tr>\n",
       "    <tr>\n",
       "      <th>1</th>\n",
       "      <td>Linear Regression (log)</td>\n",
       "      <td>0.162768</td>\n",
       "      <td>0.196253</td>\n",
       "    </tr>\n",
       "  </tbody>\n",
       "</table>\n",
       "</div>"
      ],
      "text/plain": [
       "                     Model    Train RNSE      Val RMSE\n",
       "0        Linear Regression  23527.661772  26348.982101\n",
       "1  Linear Regression (log)      0.162768      0.196253"
      ]
     },
     "execution_count": 44,
     "metadata": {},
     "output_type": "execute_result"
    }
   ],
   "source": [
    "# Display the RMSE values in a dataframe\n",
    "\n",
    "##### CODE HERE #####\n",
    "pd.DataFrame([['Linear Regression', lin_train_rmse, lin_val_rmse],\n",
    "              ['Linear Regression (log)', lin_train_rmse_log, lin_val_rmse_log]],\n",
    "              columns=['Model', 'Train RNSE', 'Val RMSE'])\n",
    "              "
   ]
  },
  {
   "cell_type": "markdown",
   "id": "8a9adf7b",
   "metadata": {
    "id": "8a9adf7b"
   },
   "source": [
    "### 3.2 Bonus Task\n",
    "*Experiment with data segmentation: Should you subset the data and fit separate models for each subset?*"
   ]
  },
  {
   "cell_type": "markdown",
   "id": "92d49a44",
   "metadata": {
    "id": "92d49a44"
   },
   "source": [
    "Data segmentation is generally useful when we think that subsegments of our data have substantially different relationships between their features and the outcome compared to other subsegments (i.e variable interactions). We can use a combination of prior knowledge and data exploration to build our domain knowledge about where this situation would apply.\n",
    "\n",
    "Starting with prior knowledge, you can hypothesize $HouseStyle$ may be a candidate for data segmentation, as for instance, 3 bedrooms in a 1-story house may have a different effect on $SalePrice$ than 3 bedrooms in a 2-story house."
   ]
  },
  {
   "cell_type": "code",
   "execution_count": 45,
   "id": "59a906fb",
   "metadata": {
    "id": "59a906fb"
   },
   "outputs": [
    {
     "data": {
      "text/plain": [
       "House Style\n",
       "1Story    1481\n",
       "2Story     873\n",
       "1.5Fin     314\n",
       "SLvl       128\n",
       "SFoyer      83\n",
       "2.5Unf      24\n",
       "1.5Unf      19\n",
       "2.5Fin       8\n",
       "Name: count, dtype: int64"
      ]
     },
     "execution_count": 45,
     "metadata": {},
     "output_type": "execute_result"
    }
   ],
   "source": [
    "housing_df['House Style'].value_counts()"
   ]
  },
  {
   "cell_type": "code",
   "execution_count": 46,
   "id": "dbb88267",
   "metadata": {
    "id": "dbb88267"
   },
   "outputs": [
    {
     "data": {
      "text/plain": [
       "Bedroom AbvGr\n",
       "3    1597\n",
       "2     743\n",
       "4     400\n",
       "1     112\n",
       "5      48\n",
       "6      21\n",
       "0       8\n",
       "8       1\n",
       "Name: count, dtype: int64"
      ]
     },
     "execution_count": 46,
     "metadata": {},
     "output_type": "execute_result"
    }
   ],
   "source": [
    "housing_df['Bedroom AbvGr'].value_counts()"
   ]
  },
  {
   "cell_type": "code",
   "execution_count": 47,
   "id": "IZRHdf_VKJ8X",
   "metadata": {
    "id": "IZRHdf_VKJ8X"
   },
   "outputs": [
    {
     "data": {
      "image/png": "[encoded data removed]",
      "text/plain": [
       "<Figure size 640x480 with 2 Axes>"
      ]
     },
     "metadata": {},
     "output_type": "display_data"
    }
   ],
   "source": [
    "matrix = []\n",
    "styles = ['1Story', '2Story', '1.5Fin']\n",
    "for style in styles:\n",
    "    curr_style = []\n",
    "    for bedrooms in range(1, 6):\n",
    "        curr_mean = housing_df[(housing_df['House Style'] == style) & \n",
    "                               (housing_df['Bedroom AbvGr'] == bedrooms)]['SalePrice'].mean()\n",
    "        \n",
    "        curr_style.append(curr_mean)\n",
    "    matrix.append(curr_style)\n",
    "sns.heatmap(matrix)\n",
    "plt.ylabel('House Style')\n",
    "plt.yticks(np.arange(3)+0.5, styles)\n",
    "plt.xlabel('Bedroom AbvGr')\n",
    "plt.xticks(np.arange(5)+0.5, np.arange(5)+1)\n",
    "pass\n"
   ]
  },
  {
   "cell_type": "markdown",
   "id": "d80eb073",
   "metadata": {
    "id": "d80eb073"
   },
   "source": [
    "We indeed see some interaction between the housing style and bedroom number, indicating data segmentation could be promising. \n",
    "\n",
    "*From here, it's your task to start building a linear model to see whether data segmentation will improve results.*"
   ]
  },
  {
   "cell_type": "markdown",
   "id": "Y3AVv5wtlbcA",
   "metadata": {
    "id": "Y3AVv5wtlbcA"
   },
   "source": [
    "Hint: For the first two subtasks in 3.2, you could run a for-loop for each style in HouseStyles and evaluate/create the LASSO model."
   ]
  },
  {
   "cell_type": "code",
   "execution_count": 51,
   "id": "747f4393",
   "metadata": {
    "id": "747f4393"
   },
   "outputs": [
    {
     "name": "stderr",
     "output_type": "stream",
     "text": [
      "C:\\ProgramData\\anaconda3\\Lib\\site-packages\\sklearn\\linear_model\\_coordinate_descent.py:617: ConvergenceWarning: Objective did not converge. You might want to increase the number of iterations. Duality gap: 37665659029.77985, tolerance: 987615441.0702024\n",
      "  model = cd_fast.enet_coordinate_descent_gram(\n",
      "C:\\ProgramData\\anaconda3\\Lib\\site-packages\\sklearn\\linear_model\\_coordinate_descent.py:617: ConvergenceWarning: Objective did not converge. You might want to increase the number of iterations. Duality gap: 38524184767.68817, tolerance: 1095889296.763553\n",
      "  model = cd_fast.enet_coordinate_descent_gram(\n",
      "C:\\ProgramData\\anaconda3\\Lib\\site-packages\\sklearn\\linear_model\\_coordinate_descent.py:617: ConvergenceWarning: Objective did not converge. You might want to increase the number of iterations. Duality gap: 48021312954.4928, tolerance: 1107707653.1003366\n",
      "  model = cd_fast.enet_coordinate_descent_gram(\n",
      "C:\\ProgramData\\anaconda3\\Lib\\site-packages\\sklearn\\linear_model\\_coordinate_descent.py:617: ConvergenceWarning: Objective did not converge. You might want to increase the number of iterations. Duality gap: 155640799372.1067, tolerance: 1078062263.079792\n",
      "  model = cd_fast.enet_coordinate_descent_gram(\n"
     ]
    },
    {
     "name": "stdout",
     "output_type": "stream",
     "text": [
      "Best alpha: 240.01\n"
     ]
    },
    {
     "name": "stderr",
     "output_type": "stream",
     "text": [
      "C:\\Users\\deole\\AppData\\Local\\Temp\\ipykernel_15260\\3886405850.py:14: UserWarning: Boolean Series key will be reindexed to match DataFrame index.\n",
      "  curr_X_train = X_train[(housing_df['House Style'] == style)]\n",
      "C:\\Users\\deole\\AppData\\Local\\Temp\\ipykernel_15260\\3886405850.py:16: UserWarning: Boolean Series key will be reindexed to match DataFrame index.\n",
      "  curr_X_val = X_val[(housing_df['House Style'] == style)]\n",
      "C:\\Users\\deole\\AppData\\Local\\Temp\\ipykernel_15260\\3886405850.py:14: UserWarning: Boolean Series key will be reindexed to match DataFrame index.\n",
      "  curr_X_train = X_train[(housing_df['House Style'] == style)]\n",
      "C:\\Users\\deole\\AppData\\Local\\Temp\\ipykernel_15260\\3886405850.py:16: UserWarning: Boolean Series key will be reindexed to match DataFrame index.\n",
      "  curr_X_val = X_val[(housing_df['House Style'] == style)]\n",
      "C:\\Users\\deole\\AppData\\Local\\Temp\\ipykernel_15260\\3886405850.py:14: UserWarning: Boolean Series key will be reindexed to match DataFrame index.\n",
      "  curr_X_train = X_train[(housing_df['House Style'] == style)]\n",
      "C:\\Users\\deole\\AppData\\Local\\Temp\\ipykernel_15260\\3886405850.py:16: UserWarning: Boolean Series key will be reindexed to match DataFrame index.\n",
      "  curr_X_val = X_val[(housing_df['House Style'] == style)]\n"
     ]
    }
   ],
   "source": [
    "# Linear Full Model (FM) - Train a Lasso model for the whole dataset \n",
    "alphas=np.arange(0.01,250,10)\n",
    "lasso_cv_grid = LassoCV(alphas=alphas, cv=5, random_state=1, max_iter=10000)\n",
    "lasso_cv_grid.fit(X_train, y_train)\n",
    "print('Best alpha:', lasso_cv_grid.alpha_)\n",
    "\n",
    "# Store the RMSE values of train and validation for all the 3 subsets of styles - You can loop through the HouseStyles\n",
    "lin_reg_best = Lasso(alpha=lasso_cv_grid.alpha_, max_iter=10000)\n",
    "lin_reg_best.fit(X_train,y_train)\n",
    "\n",
    "rmse_table=[]\n",
    "for style in styles:\n",
    "    curr_row=[]\n",
    "    curr_X_train = X_train[(housing_df['House Style'] == style)]\n",
    "    curr_y_train = y_train[(housing_df['House Style'] == style)]\n",
    "    curr_X_val = X_val[(housing_df['House Style'] == style)]\n",
    "    curr_y_val = y_val[(housing_df['House Style'] == style)]\n",
    "    lin_train_rmse = rmse(curr_y_train, lin_reg_best.predict(curr_X_train))\n",
    "    lin_val_rmse =  rmse(curr_y_val, lin_reg_best.predict(curr_X_val))\n",
    "    curr_row = curr_row + [lin_train_rmse, lin_val_rmse]\n"
   ]
  },
  {
   "cell_type": "code",
   "execution_count": 53,
   "id": "9iZ-Fd_-3s5c",
   "metadata": {
    "id": "9iZ-Fd_-3s5c"
   },
   "outputs": [
    {
     "name": "stderr",
     "output_type": "stream",
     "text": [
      "C:\\ProgramData\\anaconda3\\Lib\\site-packages\\sklearn\\linear_model\\_coordinate_descent.py:631: ConvergenceWarning: Objective did not converge. You might want to increase the number of iterations, check the scale of the features or consider increasing regularisation. Duality gap: 2.035e+08, tolerance: 3.070e+07\n",
      "  model = cd_fast.enet_coordinate_descent(\n",
      "C:\\ProgramData\\anaconda3\\Lib\\site-packages\\sklearn\\linear_model\\_coordinate_descent.py:631: ConvergenceWarning: Objective did not converge. You might want to increase the number of iterations, check the scale of the features or consider increasing regularisation. Duality gap: 3.185e+08, tolerance: 3.892e+07\n",
      "  model = cd_fast.enet_coordinate_descent(\n",
      "C:\\ProgramData\\anaconda3\\Lib\\site-packages\\sklearn\\linear_model\\_coordinate_descent.py:631: ConvergenceWarning: Objective did not converge. You might want to increase the number of iterations, check the scale of the features or consider increasing regularisation. Duality gap: 2.337e+08, tolerance: 3.320e+07\n",
      "  model = cd_fast.enet_coordinate_descent(\n"
     ]
    },
    {
     "name": "stdout",
     "output_type": "stream",
     "text": [
      "Best alpha: 240.01\n"
     ]
    },
    {
     "name": "stderr",
     "output_type": "stream",
     "text": [
      "C:\\ProgramData\\anaconda3\\Lib\\site-packages\\sklearn\\linear_model\\_coordinate_descent.py:631: ConvergenceWarning: Objective did not converge. You might want to increase the number of iterations, check the scale of the features or consider increasing regularisation. Duality gap: 2.035e+08, tolerance: 3.070e+07\n",
      "  model = cd_fast.enet_coordinate_descent(\n",
      "C:\\ProgramData\\anaconda3\\Lib\\site-packages\\sklearn\\linear_model\\_coordinate_descent.py:631: ConvergenceWarning: Objective did not converge. You might want to increase the number of iterations, check the scale of the features or consider increasing regularisation. Duality gap: 3.185e+08, tolerance: 3.892e+07\n",
      "  model = cd_fast.enet_coordinate_descent(\n",
      "C:\\ProgramData\\anaconda3\\Lib\\site-packages\\sklearn\\linear_model\\_coordinate_descent.py:631: ConvergenceWarning: Objective did not converge. You might want to increase the number of iterations, check the scale of the features or consider increasing regularisation. Duality gap: 2.337e+08, tolerance: 3.320e+07\n",
      "  model = cd_fast.enet_coordinate_descent(\n"
     ]
    }
   ],
   "source": [
    "# Linear Data Segmentation Model (DSM) - Train a Lasso model for the individual subset of styles - 1Story, 2Story and 1.5Fin\n",
    "\n",
    "alphas= np.arange(0.01,250,10)\n",
    "lasso_cv_grid = LassoCV(alphas=alphas, cv=5, random_state=1, max_iter=10000)\n",
    "lasso_cv_grid.fit(curr_X_train,curr_y_train)\n",
    "print('Best alpha:', lasso_cv_grid.alpha_)\n",
    "\n",
    "lin_reg_best_ds= LassoCV(alphas=alphas, cv=5, random_state=1, max_iter=10000)\n",
    "lin_reg_best_ds.fit(curr_X_train,curr_y_train)\n",
    "\n",
    "lin_train_rmse = rmse(curr_y_train, lin_reg_best_ds.predict(curr_X_train))\n",
    "lin_val_rmse = rmse(curr_y_val, lin_reg_best_ds.predict(curr_X_val))\n",
    "curr_row =curr_row +[lin_train_rmse, lin_val_rmse]\n",
    "rmse_table.append(curr_row)\n",
    "# Store the RMSE values of train and validation for all the 3 subsets of styles\n"
   ]
  },
  {
   "cell_type": "code",
   "execution_count": 54,
   "id": "1e2da0e1",
   "metadata": {
    "id": "1e2da0e1"
   },
   "outputs": [
    {
     "data": {
      "text/html": [
       "<div>\n",
       "<style scoped>\n",
       "    .dataframe tbody tr th:only-of-type {\n",
       "        vertical-align: middle;\n",
       "    }\n",
       "\n",
       "    .dataframe tbody tr th {\n",
       "        vertical-align: top;\n",
       "    }\n",
       "\n",
       "    .dataframe thead th {\n",
       "        text-align: right;\n",
       "    }\n",
       "</style>\n",
       "<table border=\"1\" class=\"dataframe\">\n",
       "  <thead>\n",
       "    <tr style=\"text-align: right;\">\n",
       "      <th></th>\n",
       "      <th>FM RMSE TRAIN</th>\n",
       "      <th>FM RMSE VALIDATION</th>\n",
       "      <th>DS RMSE TRAIN</th>\n",
       "      <th>DS RMSE VAL</th>\n",
       "    </tr>\n",
       "  </thead>\n",
       "  <tbody>\n",
       "    <tr>\n",
       "      <th>1Story</th>\n",
       "      <td>16509.285524</td>\n",
       "      <td>20650.393746</td>\n",
       "      <td>7140.267208</td>\n",
       "      <td>22511.448656</td>\n",
       "    </tr>\n",
       "    <tr>\n",
       "      <th>2Story</th>\n",
       "      <td>16509.285524</td>\n",
       "      <td>20650.393746</td>\n",
       "      <td>7140.267208</td>\n",
       "      <td>22511.448656</td>\n",
       "    </tr>\n",
       "    <tr>\n",
       "      <th>1.5Fin</th>\n",
       "      <td>16509.285524</td>\n",
       "      <td>20650.393746</td>\n",
       "      <td>7140.267208</td>\n",
       "      <td>22511.448656</td>\n",
       "    </tr>\n",
       "  </tbody>\n",
       "</table>\n",
       "</div>"
      ],
      "text/plain": [
       "        FM RMSE TRAIN  FM RMSE VALIDATION  DS RMSE TRAIN   DS RMSE VAL\n",
       "1Story   16509.285524        20650.393746    7140.267208  22511.448656\n",
       "2Story   16509.285524        20650.393746    7140.267208  22511.448656\n",
       "1.5Fin   16509.285524        20650.393746    7140.267208  22511.448656"
      ]
     },
     "execution_count": 54,
     "metadata": {},
     "output_type": "execute_result"
    }
   ],
   "source": [
    "# Create a DataFrame to store the values of RMSE for both the models on the train and validation sets on all the 3 subsets of data\n",
    "\n",
    "##### CODE HERE #####\n",
    "pd.DataFrame(rmse_table,columns=['FM RMSE TRAIN', 'FM RMSE VALIDATION', 'DS RMSE TRAIN', 'DS RMSE VAL'], index=styles)"
   ]
  },
  {
   "cell_type": "markdown",
   "id": "fY-Yzk3z3xq7",
   "metadata": {
    "id": "fY-Yzk3z3xq7"
   },
   "source": [
    "*Write down your inferences about the performance of the subsetted model here -* \n",
    "\n",
    "..."
   ]
  },
  {
   "cell_type": "markdown",
   "id": "803ba45e",
   "metadata": {
    "id": "803ba45e"
   },
   "source": [
    "# Task 4: Summarize your findings\n",
    "*Now take some time to translate your results into valuable insights.*"
   ]
  },
  {
   "cell_type": "markdown",
   "id": "e6542ae0",
   "metadata": {
    "id": "e6542ae0"
   },
   "source": [
    "### 4.1\n",
    "*What drives housing prices? Find the top 20 major drivers.*\n",
    "\n",
    "Hint - In course 3 module 1, you have already seen how to store the coefficients of a model in a dictionary. You can convert the dictionary into a DataFrame and sort the dataframe by the coefficients. [Here's](https://stackoverflow.com/questions/18837262/convert-python-dict-into-a-dataframe) some guidance on how to convert dictionary into a DataFrame."
   ]
  },
  {
   "cell_type": "code",
   "execution_count": 55,
   "id": "e1c1c67d",
   "metadata": {
    "id": "e1c1c67d"
   },
   "outputs": [
    {
     "name": "stdout",
     "output_type": "stream",
     "text": [
      "                       Coefficient\n",
      "Gr Liv Area           24430.026857\n",
      "Overall Qual          12718.617195\n",
      "Misc Feature_Gar2     11144.283531\n",
      "Pool Area              9487.025515\n",
      "Neighborhood_NridgHt   8257.047552\n",
      "Year Built             7597.967793\n",
      "Neighborhood_StoneBr   7052.535945\n",
      "BsmtFin SF 1           6226.935754\n",
      "Neighborhood_NoRidge   5642.796389\n",
      "Overall Cond           5528.832478\n",
      "Total Bsmt SF          5177.108765\n",
      "Neighborhood_Somerst   4739.847548\n",
      "Bsmt Exposure_Gd       4714.201423\n",
      "Fireplaces             4682.129231\n",
      "Misc Feature_Othr      4376.162910\n",
      "Roof Matl_CompShg      4028.866129\n",
      "Sale Type_New          3860.787719\n",
      "Garage Cars            3776.920783\n",
      "Mas Vnr Area           3657.724860\n",
      "Condition 1_Norm       2982.265888\n"
     ]
    }
   ],
   "source": [
    "# Visualize all the columns and their coefficients sorted in descending order to understand the ones that has the most say in the SalePrice\n",
    "# Hint - Check the code for Course 3 Module 1 - Linear regression in a predictive setting to \n",
    "coefficients = pd.DataFrame(lin_reg_best.coef_, index=X_train.columns, columns=['Coefficient'])\n",
    "coefficients.sort_values(by='Coefficient',ascending=False, inplace=True)\n",
    "print(coefficients.head(20))"
   ]
  },
  {
   "cell_type": "markdown",
   "id": "AEwkNH-uOHhl",
   "metadata": {
    "id": "AEwkNH-uOHhl"
   },
   "source": [
    "*You can also use a built in variable importance function from decision trees to capture a summary of the importance of different features in our regression tree.* \n",
    "\n",
    "Note: There is no coding to be done in this cell. Just execute this cell and observe the feature importances."
   ]
  },
  {
   "cell_type": "code",
   "execution_count": 56,
   "id": "MmQBSolJOHM3",
   "metadata": {
    "id": "MmQBSolJOHM3"
   },
   "outputs": [
    {
     "name": "stdout",
     "output_type": "stream",
     "text": [
      "Feature importance by sklearn: \n"
     ]
    },
    {
     "data": {
      "text/html": [
       "<div>\n",
       "<style scoped>\n",
       "    .dataframe tbody tr th:only-of-type {\n",
       "        vertical-align: middle;\n",
       "    }\n",
       "\n",
       "    .dataframe tbody tr th {\n",
       "        vertical-align: top;\n",
       "    }\n",
       "\n",
       "    .dataframe thead th {\n",
       "        text-align: right;\n",
       "    }\n",
       "</style>\n",
       "<table border=\"1\" class=\"dataframe\">\n",
       "  <thead>\n",
       "    <tr style=\"text-align: right;\">\n",
       "      <th></th>\n",
       "      <th>Feature</th>\n",
       "      <th>Importance</th>\n",
       "    </tr>\n",
       "  </thead>\n",
       "  <tbody>\n",
       "    <tr>\n",
       "      <th>0</th>\n",
       "      <td>Overall Qual</td>\n",
       "      <td>0.674</td>\n",
       "    </tr>\n",
       "    <tr>\n",
       "      <th>1</th>\n",
       "      <td>Gr Liv Area</td>\n",
       "      <td>0.111</td>\n",
       "    </tr>\n",
       "    <tr>\n",
       "      <th>2</th>\n",
       "      <td>Total Bsmt SF</td>\n",
       "      <td>0.059</td>\n",
       "    </tr>\n",
       "    <tr>\n",
       "      <th>3</th>\n",
       "      <td>1st Flr SF</td>\n",
       "      <td>0.027</td>\n",
       "    </tr>\n",
       "    <tr>\n",
       "      <th>4</th>\n",
       "      <td>BsmtFin SF 1</td>\n",
       "      <td>0.019</td>\n",
       "    </tr>\n",
       "    <tr>\n",
       "      <th>5</th>\n",
       "      <td>Lot Area</td>\n",
       "      <td>0.009</td>\n",
       "    </tr>\n",
       "    <tr>\n",
       "      <th>6</th>\n",
       "      <td>Overall Cond</td>\n",
       "      <td>0.007</td>\n",
       "    </tr>\n",
       "    <tr>\n",
       "      <th>7</th>\n",
       "      <td>Year Built</td>\n",
       "      <td>0.007</td>\n",
       "    </tr>\n",
       "    <tr>\n",
       "      <th>8</th>\n",
       "      <td>Garage Area</td>\n",
       "      <td>0.007</td>\n",
       "    </tr>\n",
       "    <tr>\n",
       "      <th>9</th>\n",
       "      <td>Wood Deck SF</td>\n",
       "      <td>0.006</td>\n",
       "    </tr>\n",
       "    <tr>\n",
       "      <th>10</th>\n",
       "      <td>MS Zoning_RM</td>\n",
       "      <td>0.006</td>\n",
       "    </tr>\n",
       "    <tr>\n",
       "      <th>11</th>\n",
       "      <td>Bsmt Qual_TA</td>\n",
       "      <td>0.006</td>\n",
       "    </tr>\n",
       "    <tr>\n",
       "      <th>12</th>\n",
       "      <td>Lot Frontage</td>\n",
       "      <td>0.005</td>\n",
       "    </tr>\n",
       "    <tr>\n",
       "      <th>13</th>\n",
       "      <td>Year Remod/Add</td>\n",
       "      <td>0.005</td>\n",
       "    </tr>\n",
       "    <tr>\n",
       "      <th>14</th>\n",
       "      <td>Bsmt Unf SF</td>\n",
       "      <td>0.005</td>\n",
       "    </tr>\n",
       "    <tr>\n",
       "      <th>15</th>\n",
       "      <td>Exterior 1st_BrkFace</td>\n",
       "      <td>0.004</td>\n",
       "    </tr>\n",
       "    <tr>\n",
       "      <th>16</th>\n",
       "      <td>Garage Cars</td>\n",
       "      <td>0.004</td>\n",
       "    </tr>\n",
       "    <tr>\n",
       "      <th>17</th>\n",
       "      <td>Kitchen Qual_Gd</td>\n",
       "      <td>0.003</td>\n",
       "    </tr>\n",
       "    <tr>\n",
       "      <th>18</th>\n",
       "      <td>Open Porch SF</td>\n",
       "      <td>0.003</td>\n",
       "    </tr>\n",
       "    <tr>\n",
       "      <th>19</th>\n",
       "      <td>Mo Sold</td>\n",
       "      <td>0.003</td>\n",
       "    </tr>\n",
       "  </tbody>\n",
       "</table>\n",
       "</div>"
      ],
      "text/plain": [
       "                 Feature  Importance\n",
       "0           Overall Qual       0.674\n",
       "1            Gr Liv Area       0.111\n",
       "2          Total Bsmt SF       0.059\n",
       "3             1st Flr SF       0.027\n",
       "4           BsmtFin SF 1       0.019\n",
       "5               Lot Area       0.009\n",
       "6           Overall Cond       0.007\n",
       "7             Year Built       0.007\n",
       "8            Garage Area       0.007\n",
       "9           Wood Deck SF       0.006\n",
       "10          MS Zoning_RM       0.006\n",
       "11          Bsmt Qual_TA       0.006\n",
       "12          Lot Frontage       0.005\n",
       "13        Year Remod/Add       0.005\n",
       "14           Bsmt Unf SF       0.005\n",
       "15  Exterior 1st_BrkFace       0.004\n",
       "16           Garage Cars       0.004\n",
       "17       Kitchen Qual_Gd       0.003\n",
       "18         Open Porch SF       0.003\n",
       "19               Mo Sold       0.003"
      ]
     },
     "execution_count": 56,
     "metadata": {},
     "output_type": "execute_result"
    }
   ],
   "source": [
    "# Extract the feature_importances_ attribute from the tree model (feature_importances_ is an attribute available in trained sklearn models)\n",
    "\n",
    "# Extracting the importances by sklearn (Replace tree_reg_best by the variable of your tree model)\n",
    "importances_sk = tree_reg_best.feature_importances_\n",
    "\n",
    "# Creating a dataframe with the feature importance by sklearn\n",
    "feature_importance_df = []\n",
    "for i, feature in enumerate(X_train.columns):\n",
    "    feature_importance_df.append([feature, round(importances_sk[i], 3)])\n",
    "   \n",
    "feature_importance_df = pd.DataFrame(feature_importance_df,\n",
    "                                     columns=['Feature', 'Importance'])\n",
    "feature_importance_df = feature_importance_df.sort_values(by='Importance', ascending=False).reset_index(drop=True)\n",
    "print(f\"Feature importance by sklearn: \")\n",
    "feature_importance_df.iloc[:20]"
   ]
  },
  {
   "cell_type": "markdown",
   "id": "1d228173",
   "metadata": {
    "id": "1d228173"
   },
   "source": [
    "### 4.2\n",
    "*What is the predictive performance of your models?*"
   ]
  },
  {
   "cell_type": "code",
   "execution_count": 57,
   "id": "zq12ayCmG9Pp",
   "metadata": {
    "id": "zq12ayCmG9Pp"
   },
   "outputs": [
    {
     "name": "stdout",
     "output_type": "stream",
     "text": [
      "Feature importance by sklearn:\n"
     ]
    },
    {
     "data": {
      "text/html": [
       "<div>\n",
       "<style scoped>\n",
       "    .dataframe tbody tr th:only-of-type {\n",
       "        vertical-align: middle;\n",
       "    }\n",
       "\n",
       "    .dataframe tbody tr th {\n",
       "        vertical-align: top;\n",
       "    }\n",
       "\n",
       "    .dataframe thead th {\n",
       "        text-align: right;\n",
       "    }\n",
       "</style>\n",
       "<table border=\"1\" class=\"dataframe\">\n",
       "  <thead>\n",
       "    <tr style=\"text-align: right;\">\n",
       "      <th></th>\n",
       "      <th>feature</th>\n",
       "      <th>Importance</th>\n",
       "    </tr>\n",
       "  </thead>\n",
       "  <tbody>\n",
       "    <tr>\n",
       "      <th>0</th>\n",
       "      <td>Overall Qual</td>\n",
       "      <td>0.674</td>\n",
       "    </tr>\n",
       "    <tr>\n",
       "      <th>1</th>\n",
       "      <td>Gr Liv Area</td>\n",
       "      <td>0.111</td>\n",
       "    </tr>\n",
       "    <tr>\n",
       "      <th>2</th>\n",
       "      <td>Total Bsmt SF</td>\n",
       "      <td>0.059</td>\n",
       "    </tr>\n",
       "    <tr>\n",
       "      <th>3</th>\n",
       "      <td>1st Flr SF</td>\n",
       "      <td>0.027</td>\n",
       "    </tr>\n",
       "    <tr>\n",
       "      <th>4</th>\n",
       "      <td>BsmtFin SF 1</td>\n",
       "      <td>0.019</td>\n",
       "    </tr>\n",
       "    <tr>\n",
       "      <th>5</th>\n",
       "      <td>Lot Area</td>\n",
       "      <td>0.009</td>\n",
       "    </tr>\n",
       "    <tr>\n",
       "      <th>6</th>\n",
       "      <td>Overall Cond</td>\n",
       "      <td>0.007</td>\n",
       "    </tr>\n",
       "    <tr>\n",
       "      <th>7</th>\n",
       "      <td>Year Built</td>\n",
       "      <td>0.007</td>\n",
       "    </tr>\n",
       "    <tr>\n",
       "      <th>8</th>\n",
       "      <td>Garage Area</td>\n",
       "      <td>0.007</td>\n",
       "    </tr>\n",
       "    <tr>\n",
       "      <th>9</th>\n",
       "      <td>Wood Deck SF</td>\n",
       "      <td>0.006</td>\n",
       "    </tr>\n",
       "    <tr>\n",
       "      <th>10</th>\n",
       "      <td>MS Zoning_RM</td>\n",
       "      <td>0.006</td>\n",
       "    </tr>\n",
       "    <tr>\n",
       "      <th>11</th>\n",
       "      <td>Bsmt Qual_TA</td>\n",
       "      <td>0.006</td>\n",
       "    </tr>\n",
       "    <tr>\n",
       "      <th>12</th>\n",
       "      <td>Lot Frontage</td>\n",
       "      <td>0.005</td>\n",
       "    </tr>\n",
       "    <tr>\n",
       "      <th>13</th>\n",
       "      <td>Year Remod/Add</td>\n",
       "      <td>0.005</td>\n",
       "    </tr>\n",
       "    <tr>\n",
       "      <th>14</th>\n",
       "      <td>Bsmt Unf SF</td>\n",
       "      <td>0.005</td>\n",
       "    </tr>\n",
       "    <tr>\n",
       "      <th>15</th>\n",
       "      <td>Exterior 1st_BrkFace</td>\n",
       "      <td>0.004</td>\n",
       "    </tr>\n",
       "    <tr>\n",
       "      <th>16</th>\n",
       "      <td>Garage Cars</td>\n",
       "      <td>0.004</td>\n",
       "    </tr>\n",
       "    <tr>\n",
       "      <th>17</th>\n",
       "      <td>Kitchen Qual_Gd</td>\n",
       "      <td>0.003</td>\n",
       "    </tr>\n",
       "    <tr>\n",
       "      <th>18</th>\n",
       "      <td>Open Porch SF</td>\n",
       "      <td>0.003</td>\n",
       "    </tr>\n",
       "    <tr>\n",
       "      <th>19</th>\n",
       "      <td>Mo Sold</td>\n",
       "      <td>0.003</td>\n",
       "    </tr>\n",
       "  </tbody>\n",
       "</table>\n",
       "</div>"
      ],
      "text/plain": [
       "                 feature  Importance\n",
       "0           Overall Qual       0.674\n",
       "1            Gr Liv Area       0.111\n",
       "2          Total Bsmt SF       0.059\n",
       "3             1st Flr SF       0.027\n",
       "4           BsmtFin SF 1       0.019\n",
       "5               Lot Area       0.009\n",
       "6           Overall Cond       0.007\n",
       "7             Year Built       0.007\n",
       "8            Garage Area       0.007\n",
       "9           Wood Deck SF       0.006\n",
       "10          MS Zoning_RM       0.006\n",
       "11          Bsmt Qual_TA       0.006\n",
       "12          Lot Frontage       0.005\n",
       "13        Year Remod/Add       0.005\n",
       "14           Bsmt Unf SF       0.005\n",
       "15  Exterior 1st_BrkFace       0.004\n",
       "16           Garage Cars       0.004\n",
       "17       Kitchen Qual_Gd       0.003\n",
       "18         Open Porch SF       0.003\n",
       "19               Mo Sold       0.003"
      ]
     },
     "execution_count": 57,
     "metadata": {},
     "output_type": "execute_result"
    }
   ],
   "source": [
    "# Compare the RMSE of the train and the validation set for all the models. You can reuse the code from exercise 2.3.\n",
    "importances_sk=tree_reg_best.feature_importances_\n",
    "feature_importances_df=[]\n",
    "for i, feature in enumerate(X_train.columns):\n",
    "    feature_importances_df.append([feature, round(importances_sk[i],3)])\n",
    "\n",
    "feature_importances_df=pd.DataFrame(feature_importances_df, columns=['feature','Importance'])\n",
    "feature_importances_df=feature_importances_df.sort_values(by='Importance', ascending=False).reset_index(drop=True)\n",
    "print(f\"Feature importance by sklearn:\")\n",
    "feature_importances_df.iloc[:20]"
   ]
  },
  {
   "cell_type": "markdown",
   "id": "CbsIRylpkNKF",
   "metadata": {
    "id": "CbsIRylpkNKF"
   },
   "source": [
    "*Which model performs the best?*\n",
    "\n",
    "..."
   ]
  },
  {
   "cell_type": "markdown",
   "id": "185ae3f7",
   "metadata": {
    "id": "185ae3f7"
   },
   "source": [
    "### 4.3\n",
    "*How reliable are your predictions?*"
   ]
  },
  {
   "cell_type": "code",
   "execution_count": 60,
   "id": "7591fabf",
   "metadata": {
    "id": "7591fabf"
   },
   "outputs": [
    {
     "data": {
      "image/png": "[encoded data removed]",
      "text/plain": [
       "<Figure size 640x480 with 1 Axes>"
      ]
     },
     "metadata": {},
     "output_type": "display_data"
    }
   ],
   "source": [
    "#Plot a scatterplot of the predicted vs the true value of the SalePrice\n",
    "plt.plot(y_train,lin_reg_best.predict(X_train), 'o', label='Linear Regression')\n",
    "plt.xlabel('True Sale Price')\n",
    "plt.ylabel('Predicted  Sale Price')\n",
    "plt.legend()\n",
    "plt.title('predicted vs true sale price')\n",
    "plt.grid()\n",
    "plt.show()\n"
   ]
  },
  {
   "cell_type": "markdown",
   "id": "66d9eaff",
   "metadata": {
    "id": "66d9eaff"
   },
   "source": [
    "*A histogram of errors could also give a good insight on any underlying patterns*"
   ]
  },
  {
   "cell_type": "code",
   "execution_count": 63,
   "id": "3b8777f8",
   "metadata": {
    "id": "3b8777f8"
   },
   "outputs": [
    {
     "name": "stderr",
     "output_type": "stream",
     "text": [
      "C:\\ProgramData\\anaconda3\\Lib\\site-packages\\seaborn\\_oldcore.py:1119: FutureWarning: use_inf_as_na option is deprecated and will be removed in a future version. Convert inf values to NaN before operating instead.\n",
      "  with pd.option_context('mode.use_inf_as_na', True):\n"
     ]
    },
    {
     "data": {
      "image/png": "[encoded data removed]",
      "text/plain": [
       "<Figure size 640x480 with 1 Axes>"
      ]
     },
     "metadata": {},
     "output_type": "display_data"
    }
   ],
   "source": [
    "#Plot a histogram of the residuals. \n",
    "residual1= lin_reg_best.predict(X_val)-y_val\n",
    "sns.histplot(residual1, kde=True)\n",
    "plt.title('residual')\n",
    "plt.show()"
   ]
  },
  {
   "cell_type": "code",
   "execution_count": null,
   "id": "4a070b84",
   "metadata": {
    "id": "4a070b84"
   },
   "outputs": [],
   "source": []
  }
 ],
 "metadata": {
  "colab": {
   "collapsed_sections": [],
   "name": "Housing_Case_Study_Stub.ipynb",
   "provenance": [],
   "toc_visible": true
  },
  "kernelspec": {
   "display_name": "Python 3 (ipykernel)",
   "language": "python",
   "name": "python3"
  },
  "language_info": {
   "codemirror_mode": {
    "name": "ipython",
    "version": 3
   },
   "file_extension": ".py",
   "mimetype": "text/x-python",
   "name": "python",
   "nbconvert_exporter": "python",
   "pygments_lexer": "ipython3",
   "version": "3.11.7"
  }
 },
 "nbformat": 4,
 "nbformat_minor": 5
}
